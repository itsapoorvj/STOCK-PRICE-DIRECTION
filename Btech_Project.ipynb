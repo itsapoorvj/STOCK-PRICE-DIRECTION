{
  "nbformat": 4,
  "nbformat_minor": 0,
  "metadata": {
    "colab": {
      "name": "Btech_Project.ipynb",
      "provenance": [],
      "collapsed_sections": [],
      "include_colab_link": true
    },
    "kernelspec": {
      "name": "python3",
      "display_name": "Python 3"
    }
  },
  "cells": [
    {
      "cell_type": "markdown",
      "metadata": {
        "id": "view-in-github",
        "colab_type": "text"
      },
      "source": [
        "<a href=\"https://colab.research.google.com/github/itsapoorvj/STOCK-PRICE-DIRECTION/blob/main/Btech_Project.ipynb\" target=\"_parent\"><img src=\"https://colab.research.google.com/assets/colab-badge.svg\" alt=\"Open In Colab\"/></a>"
      ]
    },
    {
      "cell_type": "code",
      "metadata": {
        "id": "KNvDm3TquGhK",
        "colab": {
          "base_uri": "https://localhost:8080/"
        },
        "outputId": "6d5fb63e-2a31-4315-9a8f-ea924148da9d"
      },
      "source": [
        "pip install ta"
      ],
      "execution_count": null,
      "outputs": [
        {
          "output_type": "stream",
          "text": [
            "Collecting ta\n",
            "  Downloading https://files.pythonhosted.org/packages/a9/22/a355ecf2d67da8150332d22ef65c3a1f79109528279bf5d40735b6f2bd72/ta-0.7.0.tar.gz\n",
            "Requirement already satisfied: numpy in /usr/local/lib/python3.7/dist-packages (from ta) (1.19.5)\n",
            "Requirement already satisfied: pandas in /usr/local/lib/python3.7/dist-packages (from ta) (1.1.5)\n",
            "Requirement already satisfied: python-dateutil>=2.7.3 in /usr/local/lib/python3.7/dist-packages (from pandas->ta) (2.8.1)\n",
            "Requirement already satisfied: pytz>=2017.2 in /usr/local/lib/python3.7/dist-packages (from pandas->ta) (2018.9)\n",
            "Requirement already satisfied: six>=1.5 in /usr/local/lib/python3.7/dist-packages (from python-dateutil>=2.7.3->pandas->ta) (1.15.0)\n",
            "Building wheels for collected packages: ta\n",
            "  Building wheel for ta (setup.py) ... \u001b[?25l\u001b[?25hdone\n",
            "  Created wheel for ta: filename=ta-0.7.0-cp37-none-any.whl size=28716 sha256=cde4094f1b467cf05e270598f276ca17936f8b542fe04635337d5442b86ea026\n",
            "  Stored in directory: /root/.cache/pip/wheels/dd/88/30/de9553fb54a474eb7480b937cdbb140bdda613d29cf4da7994\n",
            "Successfully built ta\n",
            "Installing collected packages: ta\n",
            "Successfully installed ta-0.7.0\n"
          ],
          "name": "stdout"
        }
      ]
    },
    {
      "cell_type": "code",
      "metadata": {
        "id": "leYyZkT7oQeD"
      },
      "source": [
        "#importing the required libraries\n",
        "import numpy as np\n",
        "import pandas as pd\n",
        "import os\n",
        "import sys\n",
        "import re\n",
        "import collections\n",
        "import datetime\n",
        "import math\n",
        "import threading\n",
        "\n",
        "import cvxopt\n",
        "import cvxopt.blas\n",
        "import cvxopt.solvers\n",
        "\n",
        "from statistics import variance\n",
        "\n",
        "import matplotlib.pyplot as pyplot\n",
        "from heapq import nlargest"
      ],
      "execution_count": null,
      "outputs": []
    },
    {
      "cell_type": "code",
      "metadata": {
        "id": "NDal-s1iTy-H"
      },
      "source": [
        "# importing the required indicators\n",
        "from ta.trend import ADXIndicator\n",
        "from ta.trend import PSARIndicator\n",
        "from ta.momentum import RSIIndicator\n",
        "from ta.momentum import StochasticOscillator\n",
        "from ta.trend import MACD\n",
        "from ta.momentum import TSIIndicator\n",
        "from ta.trend import CCIIndicator\n",
        "from ta.volatility import BollingerBands\n",
        "from ta.volatility import AverageTrueRange\n",
        "from ta.momentum import KAMAIndicator\n",
        "from ta.momentum import ao\n",
        "from ta.volume import EaseOfMovementIndicator\n",
        "from ta.volume import OnBalanceVolumeIndicator\n",
        "from ta.others import DailyReturnIndicator\n",
        "from ta.others import CumulativeReturnIndicator\n",
        "from ta.volume import ForceIndexIndicator\n",
        "\n"
      ],
      "execution_count": null,
      "outputs": []
    },
    {
      "cell_type": "code",
      "metadata": {
        "id": "NZ1vr4k5yQMK"
      },
      "source": [
        "#adding libraries for data training\n",
        "from sklearn.preprocessing import MinMaxScaler, OneHotEncoder\n",
        "from sklearn.model_selection import train_test_split\n",
        "from collections import Counter\n",
        "\n",
        "from operator import itemgetter\n",
        "from sklearn.feature_selection import SelectKBest, f_classif, mutual_info_classif"
      ],
      "execution_count": null,
      "outputs": []
    },
    {
      "cell_type": "code",
      "metadata": {
        "id": "99yHcZ5ZxLXy"
      },
      "source": [
        "# Import the Python machine learning libraries we need\n",
        "from sklearn.model_selection import train_test_split\n",
        "from sklearn.tree import DecisionTreeClassifier\n",
        "from sklearn.metrics import accuracy_score\n",
        "\n"
      ],
      "execution_count": null,
      "outputs": []
    },
    {
      "cell_type": "code",
      "metadata": {
        "id": "rjJUnonreTkO",
        "colab": {
          "base_uri": "https://localhost:8080/"
        },
        "outputId": "b470ce69-82f1-43f3-e42d-5fb7c230fc32"
      },
      "source": [
        "\n",
        "from google.colab import drive\n",
        "drive.mount('/content/drive')"
      ],
      "execution_count": null,
      "outputs": [
        {
          "output_type": "stream",
          "text": [
            "Mounted at /content/drive\n"
          ],
          "name": "stdout"
        }
      ]
    },
    {
      "cell_type": "code",
      "metadata": {
        "id": "H6sxRwPMftYS",
        "colab": {
          "base_uri": "https://localhost:8080/"
        },
        "outputId": "3966f047-dad8-4ad6-fdcc-b30705b26ec1"
      },
      "source": [
        "#pulling the data and converting it to dataframe\n",
        "data = pd.ExcelFile(\"/content/drive/My Drive/Btech_project_data/Nifty50_Data.xlsx\")\n",
        "tickerlist = data.sheet_names\n",
        "ticker = []\n",
        "for i in tickerlist:\n",
        "  ticker.append(pd.read_excel(data,i))\n",
        "len(tickerlist)\n",
        "print(tickerlist)"
      ],
      "execution_count": null,
      "outputs": [
        {
          "output_type": "stream",
          "text": [
            "['ACC.NS', 'ABBOTINDIA.NS', 'ADANIGREEN.NS', 'ADANITRANS.NS', 'ALKEM.NS', 'AMBUJACEM.NS', 'AUROPHARMA.NS', 'DMART.NS', 'BAJAJHLDNG.NS', 'BANDHANBNK.NS', 'BANKBARODA.NS', 'BERGEPAINT.NS', 'INFRATEL.NS', 'BIOCON.NS', 'BOSCHLTD.NS', 'CADILAHC.NS', 'COLPAL.NS', 'CONCOR.NS', 'DLF.NS', 'DABUR.NS', 'GICRE.NS', 'GODREJCP.NS', 'HDFCAMC.NS', 'HAVELLS.NS', 'HINDPETRO.NS', 'HINDZINC.NS', 'ICICIGI.NS', 'ICICIPRULI.NS', 'IGL.NS', 'NAUKRI.NS', 'INDIGO.NS', 'LTI.NS', 'LUPIN.NS', 'MARICO.NS', 'MOTHERSUMI.NS', 'MUTHOOTFIN.NS', 'NMDC.NS', 'OFSS.NS', 'PETRONET.NS', 'PIDILITIND.NS', 'PEL.NS', 'PFC.NS', 'PGHH.NS', 'PNB.NS', 'SBICARD.NS', 'SIEMENS.NS', 'TATACONSUM.NS', 'TORNTPHARM.NS', 'UBL.NS', 'MCDOWELL-N.NS']\n"
          ],
          "name": "stdout"
        }
      ]
    },
    {
      "cell_type": "code",
      "metadata": {
        "id": "MjGHRgl69PJe"
      },
      "source": [
        "#generating output \n",
        "for count,i in enumerate(ticker):\n",
        "  df=i\n",
        "  signal =[]\n",
        "  l = len(df.index)\n",
        "  for row in range(l-1):\n",
        "     \n",
        "    if df.at[row+1, 'Adj Close']>1.5+df.at[row, 'Adj Close']:\n",
        "      signal.append('Buy')\n",
        "    elif df.at[row+1, 'Adj Close']<df.at[row, 'Adj Close']-1.5:\n",
        "      signal.append('Sell') \n",
        "    else:\n",
        "      signal.append('Hold') \n",
        "  signal.append('Hold')\n",
        "  df[\"Sign\"]=signal\n"
      ],
      "execution_count": null,
      "outputs": []
    },
    {
      "cell_type": "code",
      "metadata": {
        "id": "u0K7y5gPPHfK"
      },
      "source": [
        "#adding adjusted prices\n",
        "for count,i in enumerate(ticker):\n",
        "  df=i\n",
        "  df['Adj Open'] = df['Open'] * df['Adj Close']/df['Close']\n",
        "  df['Adj High'] = df['High'] * df['Adj Close']/df['Close']\n",
        "  df['Adj Low'] = df['Low'] * df['Adj Close']/df['Close']\n",
        "  df.dropna(inplace=True)"
      ],
      "execution_count": null,
      "outputs": []
    },
    {
      "cell_type": "code",
      "metadata": {
        "id": "zM4gDgjbhQTT"
      },
      "source": [
        "#adding indicator's values as features into our dataset\n",
        "#adding SMA\n",
        "for count,i in enumerate(ticker):\n",
        "  df=i\n",
        "  SMA = df['Adj Close'].rolling(window=20).mean()\n",
        "  df[\"SMA\"]=SMA"
      ],
      "execution_count": null,
      "outputs": []
    },
    {
      "cell_type": "code",
      "metadata": {
        "id": "fx28XR3-Pb0j"
      },
      "source": [
        "#adding EMA\n",
        "for count,i in enumerate(ticker):\n",
        "  df=i\n",
        "  EMA = df['Adj Close'].ewm(span=20, adjust=False).mean()\n",
        "  df[\"EMA\"] = EMA"
      ],
      "execution_count": null,
      "outputs": []
    },
    {
      "cell_type": "code",
      "metadata": {
        "id": "3pRieyOXPmLB",
        "colab": {
          "base_uri": "https://localhost:8080/"
        },
        "outputId": "c0e9a87c-684d-4b1d-a8c2-5b50c9fae7d6"
      },
      "source": [
        "#adding ADXindicator\n",
        "for count,i in enumerate(ticker):\n",
        "  df=i\n",
        "  adxI = ADXIndicator(df['Adj High'],df['Adj Low'],df['Adj Close'],14,False)\n",
        "  df['ADX'] = adxI.adx()"
      ],
      "execution_count": null,
      "outputs": [
        {
          "output_type": "stream",
          "text": [
            "/usr/local/lib/python3.6/dist-packages/ta/trend.py:643: RuntimeWarning: invalid value encountered in double_scalars\n",
            "  dip[i] = 100 * (self._dip[i]/self._trs[i])\n",
            "/usr/local/lib/python3.6/dist-packages/ta/trend.py:647: RuntimeWarning: invalid value encountered in double_scalars\n",
            "  din[i] = 100 * (self._din[i]/self._trs[i])\n",
            "/usr/local/lib/python3.6/dist-packages/ta/trend.py:643: RuntimeWarning: invalid value encountered in double_scalars\n",
            "  dip[i] = 100 * (self._dip[i]/self._trs[i])\n",
            "/usr/local/lib/python3.6/dist-packages/ta/trend.py:647: RuntimeWarning: invalid value encountered in double_scalars\n",
            "  din[i] = 100 * (self._din[i]/self._trs[i])\n",
            "/usr/local/lib/python3.6/dist-packages/ta/trend.py:643: RuntimeWarning: invalid value encountered in double_scalars\n",
            "  dip[i] = 100 * (self._dip[i]/self._trs[i])\n",
            "/usr/local/lib/python3.6/dist-packages/ta/trend.py:647: RuntimeWarning: invalid value encountered in double_scalars\n",
            "  din[i] = 100 * (self._din[i]/self._trs[i])\n",
            "/usr/local/lib/python3.6/dist-packages/ta/trend.py:643: RuntimeWarning: invalid value encountered in double_scalars\n",
            "  dip[i] = 100 * (self._dip[i]/self._trs[i])\n",
            "/usr/local/lib/python3.6/dist-packages/ta/trend.py:647: RuntimeWarning: invalid value encountered in double_scalars\n",
            "  din[i] = 100 * (self._din[i]/self._trs[i])\n",
            "/usr/local/lib/python3.6/dist-packages/ta/trend.py:643: RuntimeWarning: invalid value encountered in double_scalars\n",
            "  dip[i] = 100 * (self._dip[i]/self._trs[i])\n",
            "/usr/local/lib/python3.6/dist-packages/ta/trend.py:647: RuntimeWarning: invalid value encountered in double_scalars\n",
            "  din[i] = 100 * (self._din[i]/self._trs[i])\n",
            "/usr/local/lib/python3.6/dist-packages/ta/trend.py:643: RuntimeWarning: invalid value encountered in double_scalars\n",
            "  dip[i] = 100 * (self._dip[i]/self._trs[i])\n",
            "/usr/local/lib/python3.6/dist-packages/ta/trend.py:647: RuntimeWarning: invalid value encountered in double_scalars\n",
            "  din[i] = 100 * (self._din[i]/self._trs[i])\n",
            "/usr/local/lib/python3.6/dist-packages/ta/trend.py:643: RuntimeWarning: invalid value encountered in double_scalars\n",
            "  dip[i] = 100 * (self._dip[i]/self._trs[i])\n",
            "/usr/local/lib/python3.6/dist-packages/ta/trend.py:647: RuntimeWarning: invalid value encountered in double_scalars\n",
            "  din[i] = 100 * (self._din[i]/self._trs[i])\n",
            "/usr/local/lib/python3.6/dist-packages/ta/trend.py:643: RuntimeWarning: invalid value encountered in double_scalars\n",
            "  dip[i] = 100 * (self._dip[i]/self._trs[i])\n",
            "/usr/local/lib/python3.6/dist-packages/ta/trend.py:647: RuntimeWarning: invalid value encountered in double_scalars\n",
            "  din[i] = 100 * (self._din[i]/self._trs[i])\n",
            "/usr/local/lib/python3.6/dist-packages/ta/trend.py:643: RuntimeWarning: invalid value encountered in double_scalars\n",
            "  dip[i] = 100 * (self._dip[i]/self._trs[i])\n",
            "/usr/local/lib/python3.6/dist-packages/ta/trend.py:647: RuntimeWarning: invalid value encountered in double_scalars\n",
            "  din[i] = 100 * (self._din[i]/self._trs[i])\n",
            "/usr/local/lib/python3.6/dist-packages/ta/trend.py:643: RuntimeWarning: invalid value encountered in double_scalars\n",
            "  dip[i] = 100 * (self._dip[i]/self._trs[i])\n",
            "/usr/local/lib/python3.6/dist-packages/ta/trend.py:647: RuntimeWarning: invalid value encountered in double_scalars\n",
            "  din[i] = 100 * (self._din[i]/self._trs[i])\n",
            "/usr/local/lib/python3.6/dist-packages/ta/trend.py:643: RuntimeWarning: invalid value encountered in double_scalars\n",
            "  dip[i] = 100 * (self._dip[i]/self._trs[i])\n",
            "/usr/local/lib/python3.6/dist-packages/ta/trend.py:647: RuntimeWarning: invalid value encountered in double_scalars\n",
            "  din[i] = 100 * (self._din[i]/self._trs[i])\n",
            "/usr/local/lib/python3.6/dist-packages/ta/trend.py:643: RuntimeWarning: invalid value encountered in double_scalars\n",
            "  dip[i] = 100 * (self._dip[i]/self._trs[i])\n",
            "/usr/local/lib/python3.6/dist-packages/ta/trend.py:647: RuntimeWarning: invalid value encountered in double_scalars\n",
            "  din[i] = 100 * (self._din[i]/self._trs[i])\n",
            "/usr/local/lib/python3.6/dist-packages/ta/trend.py:643: RuntimeWarning: invalid value encountered in double_scalars\n",
            "  dip[i] = 100 * (self._dip[i]/self._trs[i])\n",
            "/usr/local/lib/python3.6/dist-packages/ta/trend.py:647: RuntimeWarning: invalid value encountered in double_scalars\n",
            "  din[i] = 100 * (self._din[i]/self._trs[i])\n",
            "/usr/local/lib/python3.6/dist-packages/ta/trend.py:643: RuntimeWarning: invalid value encountered in double_scalars\n",
            "  dip[i] = 100 * (self._dip[i]/self._trs[i])\n",
            "/usr/local/lib/python3.6/dist-packages/ta/trend.py:647: RuntimeWarning: invalid value encountered in double_scalars\n",
            "  din[i] = 100 * (self._din[i]/self._trs[i])\n",
            "/usr/local/lib/python3.6/dist-packages/ta/trend.py:643: RuntimeWarning: invalid value encountered in double_scalars\n",
            "  dip[i] = 100 * (self._dip[i]/self._trs[i])\n",
            "/usr/local/lib/python3.6/dist-packages/ta/trend.py:647: RuntimeWarning: invalid value encountered in double_scalars\n",
            "  din[i] = 100 * (self._din[i]/self._trs[i])\n",
            "/usr/local/lib/python3.6/dist-packages/ta/trend.py:643: RuntimeWarning: invalid value encountered in double_scalars\n",
            "  dip[i] = 100 * (self._dip[i]/self._trs[i])\n",
            "/usr/local/lib/python3.6/dist-packages/ta/trend.py:647: RuntimeWarning: invalid value encountered in double_scalars\n",
            "  din[i] = 100 * (self._din[i]/self._trs[i])\n",
            "/usr/local/lib/python3.6/dist-packages/ta/trend.py:643: RuntimeWarning: invalid value encountered in double_scalars\n",
            "  dip[i] = 100 * (self._dip[i]/self._trs[i])\n",
            "/usr/local/lib/python3.6/dist-packages/ta/trend.py:647: RuntimeWarning: invalid value encountered in double_scalars\n",
            "  din[i] = 100 * (self._din[i]/self._trs[i])\n",
            "/usr/local/lib/python3.6/dist-packages/ta/trend.py:643: RuntimeWarning: invalid value encountered in double_scalars\n",
            "  dip[i] = 100 * (self._dip[i]/self._trs[i])\n",
            "/usr/local/lib/python3.6/dist-packages/ta/trend.py:647: RuntimeWarning: invalid value encountered in double_scalars\n",
            "  din[i] = 100 * (self._din[i]/self._trs[i])\n",
            "/usr/local/lib/python3.6/dist-packages/ta/trend.py:643: RuntimeWarning: invalid value encountered in double_scalars\n",
            "  dip[i] = 100 * (self._dip[i]/self._trs[i])\n",
            "/usr/local/lib/python3.6/dist-packages/ta/trend.py:647: RuntimeWarning: invalid value encountered in double_scalars\n",
            "  din[i] = 100 * (self._din[i]/self._trs[i])\n",
            "/usr/local/lib/python3.6/dist-packages/ta/trend.py:643: RuntimeWarning: invalid value encountered in double_scalars\n",
            "  dip[i] = 100 * (self._dip[i]/self._trs[i])\n",
            "/usr/local/lib/python3.6/dist-packages/ta/trend.py:647: RuntimeWarning: invalid value encountered in double_scalars\n",
            "  din[i] = 100 * (self._din[i]/self._trs[i])\n",
            "/usr/local/lib/python3.6/dist-packages/ta/trend.py:643: RuntimeWarning: invalid value encountered in double_scalars\n",
            "  dip[i] = 100 * (self._dip[i]/self._trs[i])\n",
            "/usr/local/lib/python3.6/dist-packages/ta/trend.py:647: RuntimeWarning: invalid value encountered in double_scalars\n",
            "  din[i] = 100 * (self._din[i]/self._trs[i])\n",
            "/usr/local/lib/python3.6/dist-packages/ta/trend.py:643: RuntimeWarning: invalid value encountered in double_scalars\n",
            "  dip[i] = 100 * (self._dip[i]/self._trs[i])\n",
            "/usr/local/lib/python3.6/dist-packages/ta/trend.py:647: RuntimeWarning: invalid value encountered in double_scalars\n",
            "  din[i] = 100 * (self._din[i]/self._trs[i])\n",
            "/usr/local/lib/python3.6/dist-packages/ta/trend.py:643: RuntimeWarning: invalid value encountered in double_scalars\n",
            "  dip[i] = 100 * (self._dip[i]/self._trs[i])\n",
            "/usr/local/lib/python3.6/dist-packages/ta/trend.py:647: RuntimeWarning: invalid value encountered in double_scalars\n",
            "  din[i] = 100 * (self._din[i]/self._trs[i])\n",
            "/usr/local/lib/python3.6/dist-packages/ta/trend.py:643: RuntimeWarning: invalid value encountered in double_scalars\n",
            "  dip[i] = 100 * (self._dip[i]/self._trs[i])\n",
            "/usr/local/lib/python3.6/dist-packages/ta/trend.py:647: RuntimeWarning: invalid value encountered in double_scalars\n",
            "  din[i] = 100 * (self._din[i]/self._trs[i])\n",
            "/usr/local/lib/python3.6/dist-packages/ta/trend.py:643: RuntimeWarning: invalid value encountered in double_scalars\n",
            "  dip[i] = 100 * (self._dip[i]/self._trs[i])\n",
            "/usr/local/lib/python3.6/dist-packages/ta/trend.py:647: RuntimeWarning: invalid value encountered in double_scalars\n",
            "  din[i] = 100 * (self._din[i]/self._trs[i])\n",
            "/usr/local/lib/python3.6/dist-packages/ta/trend.py:643: RuntimeWarning: invalid value encountered in double_scalars\n",
            "  dip[i] = 100 * (self._dip[i]/self._trs[i])\n",
            "/usr/local/lib/python3.6/dist-packages/ta/trend.py:647: RuntimeWarning: invalid value encountered in double_scalars\n",
            "  din[i] = 100 * (self._din[i]/self._trs[i])\n",
            "/usr/local/lib/python3.6/dist-packages/ta/trend.py:643: RuntimeWarning: invalid value encountered in double_scalars\n",
            "  dip[i] = 100 * (self._dip[i]/self._trs[i])\n",
            "/usr/local/lib/python3.6/dist-packages/ta/trend.py:647: RuntimeWarning: invalid value encountered in double_scalars\n",
            "  din[i] = 100 * (self._din[i]/self._trs[i])\n",
            "/usr/local/lib/python3.6/dist-packages/ta/trend.py:643: RuntimeWarning: invalid value encountered in double_scalars\n",
            "  dip[i] = 100 * (self._dip[i]/self._trs[i])\n",
            "/usr/local/lib/python3.6/dist-packages/ta/trend.py:647: RuntimeWarning: invalid value encountered in double_scalars\n",
            "  din[i] = 100 * (self._din[i]/self._trs[i])\n",
            "/usr/local/lib/python3.6/dist-packages/ta/trend.py:643: RuntimeWarning: invalid value encountered in double_scalars\n",
            "  dip[i] = 100 * (self._dip[i]/self._trs[i])\n",
            "/usr/local/lib/python3.6/dist-packages/ta/trend.py:647: RuntimeWarning: invalid value encountered in double_scalars\n",
            "  din[i] = 100 * (self._din[i]/self._trs[i])\n",
            "/usr/local/lib/python3.6/dist-packages/ta/trend.py:643: RuntimeWarning: invalid value encountered in double_scalars\n",
            "  dip[i] = 100 * (self._dip[i]/self._trs[i])\n",
            "/usr/local/lib/python3.6/dist-packages/ta/trend.py:647: RuntimeWarning: invalid value encountered in double_scalars\n",
            "  din[i] = 100 * (self._din[i]/self._trs[i])\n",
            "/usr/local/lib/python3.6/dist-packages/ta/trend.py:643: RuntimeWarning: invalid value encountered in double_scalars\n",
            "  dip[i] = 100 * (self._dip[i]/self._trs[i])\n",
            "/usr/local/lib/python3.6/dist-packages/ta/trend.py:647: RuntimeWarning: invalid value encountered in double_scalars\n",
            "  din[i] = 100 * (self._din[i]/self._trs[i])\n",
            "/usr/local/lib/python3.6/dist-packages/ta/trend.py:643: RuntimeWarning: invalid value encountered in double_scalars\n",
            "  dip[i] = 100 * (self._dip[i]/self._trs[i])\n",
            "/usr/local/lib/python3.6/dist-packages/ta/trend.py:647: RuntimeWarning: invalid value encountered in double_scalars\n",
            "  din[i] = 100 * (self._din[i]/self._trs[i])\n",
            "/usr/local/lib/python3.6/dist-packages/ta/trend.py:643: RuntimeWarning: invalid value encountered in double_scalars\n",
            "  dip[i] = 100 * (self._dip[i]/self._trs[i])\n",
            "/usr/local/lib/python3.6/dist-packages/ta/trend.py:647: RuntimeWarning: invalid value encountered in double_scalars\n",
            "  din[i] = 100 * (self._din[i]/self._trs[i])\n",
            "/usr/local/lib/python3.6/dist-packages/ta/trend.py:643: RuntimeWarning: invalid value encountered in double_scalars\n",
            "  dip[i] = 100 * (self._dip[i]/self._trs[i])\n",
            "/usr/local/lib/python3.6/dist-packages/ta/trend.py:647: RuntimeWarning: invalid value encountered in double_scalars\n",
            "  din[i] = 100 * (self._din[i]/self._trs[i])\n",
            "/usr/local/lib/python3.6/dist-packages/ta/trend.py:643: RuntimeWarning: invalid value encountered in double_scalars\n",
            "  dip[i] = 100 * (self._dip[i]/self._trs[i])\n",
            "/usr/local/lib/python3.6/dist-packages/ta/trend.py:647: RuntimeWarning: invalid value encountered in double_scalars\n",
            "  din[i] = 100 * (self._din[i]/self._trs[i])\n",
            "/usr/local/lib/python3.6/dist-packages/ta/trend.py:643: RuntimeWarning: invalid value encountered in double_scalars\n",
            "  dip[i] = 100 * (self._dip[i]/self._trs[i])\n",
            "/usr/local/lib/python3.6/dist-packages/ta/trend.py:647: RuntimeWarning: invalid value encountered in double_scalars\n",
            "  din[i] = 100 * (self._din[i]/self._trs[i])\n",
            "/usr/local/lib/python3.6/dist-packages/ta/trend.py:643: RuntimeWarning: invalid value encountered in double_scalars\n",
            "  dip[i] = 100 * (self._dip[i]/self._trs[i])\n",
            "/usr/local/lib/python3.6/dist-packages/ta/trend.py:647: RuntimeWarning: invalid value encountered in double_scalars\n",
            "  din[i] = 100 * (self._din[i]/self._trs[i])\n",
            "/usr/local/lib/python3.6/dist-packages/ta/trend.py:643: RuntimeWarning: invalid value encountered in double_scalars\n",
            "  dip[i] = 100 * (self._dip[i]/self._trs[i])\n",
            "/usr/local/lib/python3.6/dist-packages/ta/trend.py:647: RuntimeWarning: invalid value encountered in double_scalars\n",
            "  din[i] = 100 * (self._din[i]/self._trs[i])\n",
            "/usr/local/lib/python3.6/dist-packages/ta/trend.py:643: RuntimeWarning: invalid value encountered in double_scalars\n",
            "  dip[i] = 100 * (self._dip[i]/self._trs[i])\n",
            "/usr/local/lib/python3.6/dist-packages/ta/trend.py:647: RuntimeWarning: invalid value encountered in double_scalars\n",
            "  din[i] = 100 * (self._din[i]/self._trs[i])\n",
            "/usr/local/lib/python3.6/dist-packages/ta/trend.py:643: RuntimeWarning: invalid value encountered in double_scalars\n",
            "  dip[i] = 100 * (self._dip[i]/self._trs[i])\n",
            "/usr/local/lib/python3.6/dist-packages/ta/trend.py:647: RuntimeWarning: invalid value encountered in double_scalars\n",
            "  din[i] = 100 * (self._din[i]/self._trs[i])\n",
            "/usr/local/lib/python3.6/dist-packages/ta/trend.py:643: RuntimeWarning: invalid value encountered in double_scalars\n",
            "  dip[i] = 100 * (self._dip[i]/self._trs[i])\n",
            "/usr/local/lib/python3.6/dist-packages/ta/trend.py:647: RuntimeWarning: invalid value encountered in double_scalars\n",
            "  din[i] = 100 * (self._din[i]/self._trs[i])\n",
            "/usr/local/lib/python3.6/dist-packages/ta/trend.py:643: RuntimeWarning: invalid value encountered in double_scalars\n",
            "  dip[i] = 100 * (self._dip[i]/self._trs[i])\n",
            "/usr/local/lib/python3.6/dist-packages/ta/trend.py:647: RuntimeWarning: invalid value encountered in double_scalars\n",
            "  din[i] = 100 * (self._din[i]/self._trs[i])\n",
            "/usr/local/lib/python3.6/dist-packages/ta/trend.py:643: RuntimeWarning: invalid value encountered in double_scalars\n",
            "  dip[i] = 100 * (self._dip[i]/self._trs[i])\n",
            "/usr/local/lib/python3.6/dist-packages/ta/trend.py:647: RuntimeWarning: invalid value encountered in double_scalars\n",
            "  din[i] = 100 * (self._din[i]/self._trs[i])\n",
            "/usr/local/lib/python3.6/dist-packages/ta/trend.py:643: RuntimeWarning: invalid value encountered in double_scalars\n",
            "  dip[i] = 100 * (self._dip[i]/self._trs[i])\n",
            "/usr/local/lib/python3.6/dist-packages/ta/trend.py:647: RuntimeWarning: invalid value encountered in double_scalars\n",
            "  din[i] = 100 * (self._din[i]/self._trs[i])\n",
            "/usr/local/lib/python3.6/dist-packages/ta/trend.py:643: RuntimeWarning: invalid value encountered in double_scalars\n",
            "  dip[i] = 100 * (self._dip[i]/self._trs[i])\n",
            "/usr/local/lib/python3.6/dist-packages/ta/trend.py:647: RuntimeWarning: invalid value encountered in double_scalars\n",
            "  din[i] = 100 * (self._din[i]/self._trs[i])\n",
            "/usr/local/lib/python3.6/dist-packages/ta/trend.py:643: RuntimeWarning: invalid value encountered in double_scalars\n",
            "  dip[i] = 100 * (self._dip[i]/self._trs[i])\n",
            "/usr/local/lib/python3.6/dist-packages/ta/trend.py:647: RuntimeWarning: invalid value encountered in double_scalars\n",
            "  din[i] = 100 * (self._din[i]/self._trs[i])\n",
            "/usr/local/lib/python3.6/dist-packages/ta/trend.py:643: RuntimeWarning: invalid value encountered in double_scalars\n",
            "  dip[i] = 100 * (self._dip[i]/self._trs[i])\n",
            "/usr/local/lib/python3.6/dist-packages/ta/trend.py:647: RuntimeWarning: invalid value encountered in double_scalars\n",
            "  din[i] = 100 * (self._din[i]/self._trs[i])\n",
            "/usr/local/lib/python3.6/dist-packages/ta/trend.py:643: RuntimeWarning: invalid value encountered in double_scalars\n",
            "  dip[i] = 100 * (self._dip[i]/self._trs[i])\n",
            "/usr/local/lib/python3.6/dist-packages/ta/trend.py:647: RuntimeWarning: invalid value encountered in double_scalars\n",
            "  din[i] = 100 * (self._din[i]/self._trs[i])\n",
            "/usr/local/lib/python3.6/dist-packages/ta/trend.py:643: RuntimeWarning: invalid value encountered in double_scalars\n",
            "  dip[i] = 100 * (self._dip[i]/self._trs[i])\n",
            "/usr/local/lib/python3.6/dist-packages/ta/trend.py:647: RuntimeWarning: invalid value encountered in double_scalars\n",
            "  din[i] = 100 * (self._din[i]/self._trs[i])\n",
            "/usr/local/lib/python3.6/dist-packages/ta/trend.py:643: RuntimeWarning: invalid value encountered in double_scalars\n",
            "  dip[i] = 100 * (self._dip[i]/self._trs[i])\n",
            "/usr/local/lib/python3.6/dist-packages/ta/trend.py:647: RuntimeWarning: invalid value encountered in double_scalars\n",
            "  din[i] = 100 * (self._din[i]/self._trs[i])\n"
          ],
          "name": "stderr"
        }
      ]
    },
    {
      "cell_type": "code",
      "metadata": {
        "id": "xohNVrPSTlRo"
      },
      "source": [
        "#adding psar\n",
        "for count,i in enumerate(ticker):\n",
        "  df=i\n",
        "  psarI = PSARIndicator(df['Adj High'],df['Adj Low'],df['Adj Close'],0.02,0.2,False)\n",
        "  df['PSAR'] = psarI.psar()"
      ],
      "execution_count": null,
      "outputs": []
    },
    {
      "cell_type": "code",
      "metadata": {
        "id": "u9J03fC8ea_E"
      },
      "source": [
        "#adding WMA\n",
        "for count,i in enumerate(ticker):\n",
        "  df=i\n",
        "  weights = np.arange(1,21)\n",
        "  wma20 = df['Adj Close'].rolling(20).apply(lambda prices: np.dot(prices, weights)/weights.sum(), raw=True)\n",
        "  df['WMA'] = wma20"
      ],
      "execution_count": null,
      "outputs": []
    },
    {
      "cell_type": "code",
      "metadata": {
        "id": "Fuimq8HG9pRC"
      },
      "source": [
        "#adding MACD\n",
        "for count,i in enumerate(ticker):\n",
        "  df=i\n",
        "  macdI = MACD(df['Adj Close'],26,12,9,False)\n",
        "  df['MACD'] = macdI.macd()"
      ],
      "execution_count": null,
      "outputs": []
    },
    {
      "cell_type": "code",
      "metadata": {
        "id": "KnoTz2NCdEkI"
      },
      "source": [
        "#adding CCI \n",
        "for count,i in enumerate(ticker):\n",
        "  df=i\n",
        "  CCI_i = CCIIndicator(df['High'],df['Low'],df['Close'],20,0.015,False)\n",
        "  df['CCI'] = CCI_i.cci()"
      ],
      "execution_count": null,
      "outputs": []
    },
    {
      "cell_type": "code",
      "metadata": {
        "id": "ILkGHTWDo2Da"
      },
      "source": [
        "#adding RSI\n",
        "for count,i in enumerate(ticker):\n",
        "  df=i\n",
        "  rsiI = RSIIndicator(df['Adj Close'],14,False)\n",
        "  df['RSI'] = rsiI.rsi()"
      ],
      "execution_count": null,
      "outputs": []
    },
    {
      "cell_type": "code",
      "metadata": {
        "id": "vQXxmMLMpvhx"
      },
      "source": [
        "#adding Stochastic Oscillator\n",
        "for count,i in enumerate(ticker):\n",
        "  df=i\n",
        "  StochasticI = StochasticOscillator(df['Adj High'],df['Adj Low'],df['Adj Close'],14,3,False)\n",
        "  df['Stochastic'] = StochasticI.stoch()"
      ],
      "execution_count": null,
      "outputs": []
    },
    {
      "cell_type": "code",
      "metadata": {
        "id": "xYYt18ffdEOK"
      },
      "source": [
        "#adding TSI\n",
        "for count,i in enumerate(ticker):\n",
        "  df=i\n",
        "  TSI = TSIIndicator(df['Adj Close'],25,13,False)\n",
        "  df['TSI'] = TSI.tsi()"
      ],
      "execution_count": null,
      "outputs": []
    },
    {
      "cell_type": "code",
      "metadata": {
        "id": "oAc8DNtIdEv1"
      },
      "source": [
        "#adding bollinger bands\n",
        "for count,i in enumerate(ticker):\n",
        "  df=i\n",
        "  BB = BollingerBands(df['Adj Close'],20,2,False)\n",
        "  df['BB_High'] = BB.bollinger_hband() \n",
        "  df['BB_Low'] = BB.bollinger_lband()\n",
        "  df['BB_Avg'] = BB.bollinger_mavg() "
      ],
      "execution_count": null,
      "outputs": []
    },
    {
      "cell_type": "code",
      "metadata": {
        "id": "minYW_nkdOS6"
      },
      "source": [
        "#adding ATR\n",
        "for count,i in enumerate(ticker):\n",
        "  df=i\n",
        "  ATR_i = AverageTrueRange(df['Adj High'],df['Adj Low'],df['Adj Close'],14,False)\n",
        "  df['ATR'] = ATR_i.average_true_range()"
      ],
      "execution_count": null,
      "outputs": []
    },
    {
      "cell_type": "code",
      "metadata": {
        "id": "Goem-rVOjNsQ"
      },
      "source": [
        "#adding KAMA\n",
        "for count,i in enumerate(ticker):\n",
        "  df=i\n",
        "  KAMA_i = KAMAIndicator(df['Adj Close'],25,13,False)\n",
        "  df['KAMA'] = KAMA_i.kama()"
      ],
      "execution_count": null,
      "outputs": []
    },
    {
      "cell_type": "code",
      "metadata": {
        "id": "4X8Hj27bkAZA"
      },
      "source": [
        "#adding Awesomne Oscillator\n",
        "for count,i in enumerate(ticker):\n",
        "  df=i\n",
        "  AO_i = ao(df['Adj High'],df['Adj Low'],5,34,False)\n",
        "  df['AO'] = AO_i"
      ],
      "execution_count": null,
      "outputs": []
    },
    {
      "cell_type": "code",
      "metadata": {
        "id": "LP56lhLSYgpp"
      },
      "source": [
        "# adding EMV\n",
        "for count,i in enumerate(ticker):\n",
        "  df=i\n",
        "  EMV_i = EaseOfMovementIndicator(df['Adj High'],df['Adj Low'],df['Volume'],14,False)\n",
        "  df['EMV'] = EMV_i.ease_of_movement()"
      ],
      "execution_count": null,
      "outputs": []
    },
    {
      "cell_type": "code",
      "metadata": {
        "id": "th_fglDJYfWz"
      },
      "source": [
        "#addng obv\n",
        "for count,i in enumerate(ticker):\n",
        "  df=i\n",
        "  OBV_i = OnBalanceVolumeIndicator(df['Adj Close'],df['Volume'],False)\n",
        "  df['OBV'] = OBV_i.on_balance_volume()"
      ],
      "execution_count": null,
      "outputs": []
    },
    {
      "cell_type": "code",
      "metadata": {
        "id": "dKsKSdVff4rn"
      },
      "source": [
        "#adding cr\n",
        "for count,i in enumerate(ticker):\n",
        "  df=i\n",
        "  CR_i = CumulativeReturnIndicator(df['Adj Close'],False)\n",
        "  df['CR'] = CR_i.cumulative_return()"
      ],
      "execution_count": null,
      "outputs": []
    },
    {
      "cell_type": "code",
      "metadata": {
        "id": "IDXDucxkf6eP"
      },
      "source": [
        "#adding dr\n",
        "for count,i in enumerate(ticker):\n",
        "  df=i\n",
        "  DR_i = DailyReturnIndicator(df['Adj Close'],False)\n",
        "  df['DR'] = DR_i.daily_return()"
      ],
      "execution_count": null,
      "outputs": []
    },
    {
      "cell_type": "code",
      "metadata": {
        "id": "70ZQWmmKhVFy"
      },
      "source": [
        "#adding FI\n",
        "for count,i in enumerate(ticker):\n",
        "  df=i\n",
        "  FI_i = ForceIndexIndicator(df['Adj Close'],df['Volume'],13,False)\n",
        "  df['FI'] = FI_i.force_index()"
      ],
      "execution_count": null,
      "outputs": []
    },
    {
      "cell_type": "code",
      "metadata": {
        "id": "SwXS2KkMBCXZ"
      },
      "source": [
        "#data preprocessing\n",
        "for i in ticker:\n",
        "  i.drop(columns=['Date'],inplace=True)\n",
        "  i.drop(i.loc[0:36].index, inplace=True)"
      ],
      "execution_count": null,
      "outputs": []
    },
    {
      "cell_type": "code",
      "metadata": {
        "id": "rKdvSCkZVvEj"
      },
      "source": [
        "# for data,name in zip(ticker, tickerlist):\n",
        "#   df=data\n",
        "#   df.to_excel('btp_output.xlsx', sheet_name=name)\n",
        "\n",
        "# writer = pd.ExcelWriter('BTP_output.xlsx')\n",
        "# for i, df in zip(tickerlist, ticker):\n",
        "#     df.to_excel(writer, index=False,sheet_name=i)\n",
        "    \n",
        "# writer.save()"
      ],
      "execution_count": null,
      "outputs": []
    },
    {
      "cell_type": "code",
      "metadata": {
        "id": "hr-xfIn4zI8v"
      },
      "source": [
        "#data = pd.ExcelFile(\"/content/drive/My Drive/Btech_project_data/BTP_output.xlsx\")"
      ],
      "execution_count": null,
      "outputs": []
    },
    {
      "cell_type": "code",
      "metadata": {
        "id": "6mFx0lX2ajsx",
        "colab": {
          "base_uri": "https://localhost:8080/"
        },
        "outputId": "777dbe69-7ea8-49d6-92f7-a4c36fe6c689"
      },
      "source": [
        "pd.set_option('display.max_columns', None)\n",
        "#pd.set_option('display.max_rows', None)\n",
        "print(ticker[0].head())\n"
      ],
      "execution_count": null,
      "outputs": [
        {
          "output_type": "stream",
          "text": [
            "           High          Low         Open        Close  Volume    Adj Close  \\\n",
            "37  1364.250000  1347.150024  1349.000000  1357.900024  146576  1236.980591   \n",
            "38  1373.150024  1355.000000  1362.500000  1359.849976  152678  1238.756958   \n",
            "39  1363.300049  1348.349976  1356.000000  1350.099976  159876  1229.875122   \n",
            "40  1342.650024  1332.300049  1340.000000  1334.849976  228456  1215.983032   \n",
            "41  1355.949951  1335.500000  1336.449951  1353.449951  150373  1232.927002   \n",
            "\n",
            "    Sign     Adj Open     Adj High      Adj Low          SMA          EMA  \\\n",
            "37   Buy  1228.873103  1242.765108  1227.187866  1236.748376  1233.709364   \n",
            "38  Sell  1241.171001  1250.872653  1234.338867  1235.848810  1234.190087   \n",
            "39  Sell  1235.249756  1241.899744  1228.280958  1233.648846  1233.779138   \n",
            "40   Buy  1220.674453  1223.088495  1213.660174  1229.501733  1232.084271   \n",
            "41  Sell  1217.440830  1235.204380  1216.575470  1227.121875  1232.164531   \n",
            "\n",
            "          ADX         PSAR          WMA      MACD        CCI        RSI  \\\n",
            "37  14.687418  1184.965250  1227.944237 -6.455300  -3.490176  50.191748   \n",
            "38  13.924863  1186.121248  1228.135531 -5.258567  17.431891  50.980246   \n",
            "39  13.059071  1188.711304  1227.566608 -4.969551  -3.202371  46.975921   \n",
            "40  13.145081  1191.197758  1225.884149 -5.794683 -54.004356  41.486978   \n",
            "41  12.394781  1193.584754  1226.210366 -5.023461   4.889354  49.272522   \n",
            "\n",
            "    Stochastic        TSI      BB_High       BB_Low       BB_Avg        ATR  \\\n",
            "37   78.219027 -27.537751  1290.415209  1183.081544  1236.748376  23.028346   \n",
            "38   81.617095 -25.122774  1288.742095  1182.955525  1235.848810  22.564449   \n",
            "39   68.140861 -23.800133  1283.611716  1183.685977  1233.648846  21.925473   \n",
            "40   47.062667 -23.835541  1269.970331  1189.033135  1229.501733  21.517578   \n",
            "41   66.122191 -21.613212  1260.238958  1194.004792  1227.121875  21.353562   \n",
            "\n",
            "            KAMA         AO           EMV     OBV        CR        DR  \\\n",
            "37 -2.729874e+06 -14.628952  57601.649350 -313953 -0.861506  0.959104   \n",
            "38  5.396479e+06 -11.745649  82618.825265 -161275 -0.719138  0.143605   \n",
            "39 -1.030644e+07  -9.762752 -64018.836646 -321151 -1.430978 -0.716996   \n",
            "40  1.829294e+07 -12.205880 -68986.577631 -549607 -2.544367 -1.129553   \n",
            "41 -3.403304e+07 -12.424081  93106.651484 -399234 -1.186383  1.393438   \n",
            "\n",
            "               FI  \n",
            "37  102996.462168  \n",
            "38  127027.280351  \n",
            "39  -93975.531462  \n",
            "40 -533940.638017  \n",
            "41  -93675.466915  \n"
          ],
          "name": "stdout"
        }
      ]
    },
    {
      "cell_type": "code",
      "metadata": {
        "id": "_aFKHSYIWm0g"
      },
      "source": [
        "#Calculating average accuracy for indicators\n",
        "momentum_acc_avg = {}\n",
        "momentum_acc_min = {}\n",
        "momentum_acc_max = {}\n",
        "trend_acc_avg = {}\n",
        "trend_acc_min = {}\n",
        "trend_acc_max = {}\n",
        "volume_acc_avg = {}\n",
        "volume_acc_min = {}\n",
        "volume_acc_max = {}"
      ],
      "execution_count": null,
      "outputs": []
    },
    {
      "cell_type": "code",
      "metadata": {
        "id": "OdqDzo3nqcyD",
        "colab": {
          "base_uri": "https://localhost:8080/"
        },
        "outputId": "03641432-8a3d-4aad-b0e8-ecdfaa7b6917"
      },
      "source": [
        "#Calculating prediction accuracy for SMA\n",
        "accuracy_SMA = []\n",
        "for i in ticker:\n",
        "  y = i['Sign']\n",
        "  x = i[['High','Low','Open','Close','Volume','SMA']]\n",
        "  # Rescale the data\n",
        "  scaler = MinMaxScaler(feature_range=(0,1))\n",
        "  rescaledx = scaler.fit_transform(x)\n",
        "\n",
        "  # Convert X back to a Pandas DataFrame, for convenience\n",
        "  x = pd.DataFrame(rescaledx, columns=x.columns)\n",
        "  test_size = 0.30\n",
        "  seed = 1\n",
        "  X_train, X_test, Y_train, Y_test = train_test_split(x, y, test_size=test_size, random_state=seed)\n",
        "  # Build a decision tree model\n",
        "  model_dt = DecisionTreeClassifier()\n",
        "  model_dt.fit(X_train, Y_train)\n",
        "  # Check the model performance with the test data\n",
        "  predictions_dt = model_dt.predict(X_test)\n",
        "  print(\"DecisionTreeClassifier\", accuracy_score(Y_test, predictions_dt))\n",
        "  accuracy_SMA.append(accuracy_score(Y_test, predictions_dt))\n",
        "trend_acc_avg['SMA'] = np.average(accuracy_SMA)\n",
        "trend_acc_min['SMA'] = np.min(accuracy_SMA)\n",
        "trend_acc_max['SMA'] = np.max(accuracy_SMA)\n"
      ],
      "execution_count": null,
      "outputs": [
        {
          "output_type": "stream",
          "text": [
            "DecisionTreeClassifier 0.44972067039106145\n",
            "DecisionTreeClassifier 0.4581005586592179\n",
            "DecisionTreeClassifier 0.5316455696202531\n",
            "DecisionTreeClassifier 0.4720670391061452\n",
            "DecisionTreeClassifier 0.43859649122807015\n",
            "DecisionTreeClassifier 0.35195530726256985\n",
            "DecisionTreeClassifier 0.36312849162011174\n",
            "DecisionTreeClassifier 0.4581673306772908\n",
            "DecisionTreeClassifier 0.44692737430167595\n",
            "DecisionTreeClassifier 0.38857142857142857\n",
            "DecisionTreeClassifier 0.40502793296089384\n",
            "DecisionTreeClassifier 0.3435754189944134\n",
            "DecisionTreeClassifier 0.36312849162011174\n",
            "DecisionTreeClassifier 0.36033519553072624\n",
            "DecisionTreeClassifier 0.4776536312849162\n",
            "DecisionTreeClassifier 0.34916201117318435\n",
            "DecisionTreeClassifier 0.43575418994413406\n",
            "DecisionTreeClassifier 0.3854748603351955\n",
            "DecisionTreeClassifier 0.34916201117318435\n",
            "DecisionTreeClassifier 0.3770949720670391\n",
            "DecisionTreeClassifier 0.3864734299516908\n",
            "DecisionTreeClassifier 0.39106145251396646\n",
            "DecisionTreeClassifier 0.41216216216216217\n",
            "DecisionTreeClassifier 0.38268156424581007\n",
            "DecisionTreeClassifier 0.3659217877094972\n",
            "DecisionTreeClassifier 0.36033519553072624\n",
            "DecisionTreeClassifier 0.4858490566037736\n",
            "DecisionTreeClassifier 0.3881118881118881\n",
            "DecisionTreeClassifier 0.4022346368715084\n",
            "DecisionTreeClassifier 0.46368715083798884\n",
            "DecisionTreeClassifier 0.49002849002849\n",
            "DecisionTreeClassifier 0.42\n",
            "DecisionTreeClassifier 0.4245810055865922\n",
            "DecisionTreeClassifier 0.34916201117318435\n",
            "DecisionTreeClassifier 0.3575418994413408\n",
            "DecisionTreeClassifier 0.4022346368715084\n",
            "DecisionTreeClassifier 0.39664804469273746\n",
            "DecisionTreeClassifier 0.48044692737430167\n",
            "DecisionTreeClassifier 0.2988826815642458\n",
            "DecisionTreeClassifier 0.39385474860335196\n",
            "DecisionTreeClassifier 0.4106145251396648\n",
            "DecisionTreeClassifier 0.388268156424581\n",
            "DecisionTreeClassifier 0.4888268156424581\n",
            "DecisionTreeClassifier 0.4441340782122905\n",
            "DecisionTreeClassifier 0.45161290322580644\n",
            "DecisionTreeClassifier 0.41899441340782123\n",
            "DecisionTreeClassifier 0.4230769230769231\n",
            "DecisionTreeClassifier 0.4134078212290503\n",
            "DecisionTreeClassifier 0.3994413407821229\n",
            "DecisionTreeClassifier 0.4022346368715084\n"
          ],
          "name": "stdout"
        }
      ]
    },
    {
      "cell_type": "code",
      "metadata": {
        "id": "5jibci5uYq03",
        "colab": {
          "base_uri": "https://localhost:8080/"
        },
        "outputId": "f1af87c5-a2e7-4ed3-fce6-a593119f557b"
      },
      "source": [
        "#Calculating prediction accuracy for EMA\n",
        "accuracy_EMA = []\n",
        "for i in ticker:\n",
        "  y = i['Sign']\n",
        "  x = i[['High','Low','Open','Close','Volume','EMA']]\n",
        "  # Rescale the data\n",
        "  scaler = MinMaxScaler(feature_range=(0,1))\n",
        "  rescaledx = scaler.fit_transform(x)\n",
        "\n",
        "  # Convert X back to a Pandas DataFrame, for convenience\n",
        "  x = pd.DataFrame(rescaledx, columns=x.columns)\n",
        "  test_size = 0.30\n",
        "  seed = 1\n",
        "  X_train, X_test, Y_train, Y_test = train_test_split(x, y, test_size=test_size, random_state=seed)\n",
        "  # Build a decision tree model\n",
        "  model_dt = DecisionTreeClassifier()\n",
        "  model_dt.fit(X_train, Y_train)\n",
        "  # Check the model performance with the test data\n",
        "  predictions_dt = model_dt.predict(X_test)\n",
        "  print(\"DecisionTreeClassifier\", accuracy_score(Y_test, predictions_dt))\n",
        "  accuracy_EMA.append(accuracy_score(Y_test, predictions_dt))\n",
        "trend_acc_avg['EMA'] = np.average(accuracy_EMA)\n",
        "trend_acc_min['EMA'] = np.min(accuracy_EMA)\n",
        "trend_acc_max['EMA'] = np.max(accuracy_EMA)"
      ],
      "execution_count": null,
      "outputs": [
        {
          "output_type": "stream",
          "text": [
            "DecisionTreeClassifier 0.4273743016759777\n",
            "DecisionTreeClassifier 0.48044692737430167\n",
            "DecisionTreeClassifier 0.5\n",
            "DecisionTreeClassifier 0.4692737430167598\n",
            "DecisionTreeClassifier 0.4853801169590643\n",
            "DecisionTreeClassifier 0.3240223463687151\n",
            "DecisionTreeClassifier 0.37988826815642457\n",
            "DecisionTreeClassifier 0.450199203187251\n",
            "DecisionTreeClassifier 0.441340782122905\n",
            "DecisionTreeClassifier 0.4057142857142857\n",
            "DecisionTreeClassifier 0.39385474860335196\n",
            "DecisionTreeClassifier 0.3324022346368715\n",
            "DecisionTreeClassifier 0.36033519553072624\n",
            "DecisionTreeClassifier 0.36312849162011174\n",
            "DecisionTreeClassifier 0.5027932960893855\n",
            "DecisionTreeClassifier 0.3240223463687151\n",
            "DecisionTreeClassifier 0.4106145251396648\n",
            "DecisionTreeClassifier 0.3268156424581006\n",
            "DecisionTreeClassifier 0.37988826815642457\n",
            "DecisionTreeClassifier 0.3575418994413408\n",
            "DecisionTreeClassifier 0.42028985507246375\n",
            "DecisionTreeClassifier 0.39385474860335196\n",
            "DecisionTreeClassifier 0.44594594594594594\n",
            "DecisionTreeClassifier 0.36312849162011174\n",
            "DecisionTreeClassifier 0.37988826815642457\n",
            "DecisionTreeClassifier 0.3324022346368715\n",
            "DecisionTreeClassifier 0.44339622641509435\n",
            "DecisionTreeClassifier 0.4230769230769231\n",
            "DecisionTreeClassifier 0.36312849162011174\n",
            "DecisionTreeClassifier 0.4301675977653631\n",
            "DecisionTreeClassifier 0.3789173789173789\n",
            "DecisionTreeClassifier 0.47\n",
            "DecisionTreeClassifier 0.4329608938547486\n",
            "DecisionTreeClassifier 0.36312849162011174\n",
            "DecisionTreeClassifier 0.3324022346368715\n",
            "DecisionTreeClassifier 0.40782122905027934\n",
            "DecisionTreeClassifier 0.42178770949720673\n",
            "DecisionTreeClassifier 0.46368715083798884\n",
            "DecisionTreeClassifier 0.3268156424581006\n",
            "DecisionTreeClassifier 0.36033519553072624\n",
            "DecisionTreeClassifier 0.43854748603351956\n",
            "DecisionTreeClassifier 0.4134078212290503\n",
            "DecisionTreeClassifier 0.44692737430167595\n",
            "DecisionTreeClassifier 0.43575418994413406\n",
            "DecisionTreeClassifier 0.5161290322580645\n",
            "DecisionTreeClassifier 0.37988826815642457\n",
            "DecisionTreeClassifier 0.37606837606837606\n",
            "DecisionTreeClassifier 0.45251396648044695\n",
            "DecisionTreeClassifier 0.40502793296089384\n",
            "DecisionTreeClassifier 0.4329608938547486\n"
          ],
          "name": "stdout"
        }
      ]
    },
    {
      "cell_type": "code",
      "metadata": {
        "id": "TSST42joYrCN"
      },
      "source": [
        "#Calculating prediction accuracy for WMA\n",
        "accuracy_WMA = []\n",
        "for i in ticker:\n",
        "  y = i['Sign']\n",
        "  x = i[['High','Low','Open','Close','Volume','WMA']]\n",
        "  # Rescale the data\n",
        "  scaler = MinMaxScaler(feature_range=(0,1))\n",
        "  rescaledx = scaler.fit_transform(x)\n",
        "\n",
        "  # Convert X back to a Pandas DataFrame, for convenience\n",
        "  x = pd.DataFrame(rescaledx, columns=x.columns)\n",
        "  test_size = 0.30\n",
        "  seed = 1\n",
        "  X_train, X_test, Y_train, Y_test = train_test_split(x, y, test_size=test_size, random_state=seed)\n",
        "  # Build a decision tree model\n",
        "  model_dt = DecisionTreeClassifier()\n",
        "  model_dt.fit(X_train, Y_train)\n",
        "  # Check the model performance with the test data\n",
        "  predictions_dt = model_dt.predict(X_test)\n",
        "  #print(\"DecisionTreeClassifier\", accuracy_score(Y_test, predictions_dt))\n",
        "  accuracy_WMA.append(accuracy_score(Y_test, predictions_dt))\n",
        "trend_acc_avg['WMA'] = np.average(accuracy_WMA)\n",
        "trend_acc_min['WMA'] = np.min(accuracy_WMA)\n",
        "trend_acc_max['WMA'] = np.max(accuracy_WMA)"
      ],
      "execution_count": null,
      "outputs": []
    },
    {
      "cell_type": "code",
      "metadata": {
        "id": "j5myugcGYrKY"
      },
      "source": [
        "#Calculating prediction accuracy for ADX\n",
        "accuracy_ADX = []\n",
        "for i in ticker:\n",
        "  y = i['Sign']\n",
        "  x = i[['High','Low','Open','Close','Volume','ADX']]\n",
        "  # Rescale the data\n",
        "  scaler = MinMaxScaler(feature_range=(0,1))\n",
        "  rescaledx = scaler.fit_transform(x)\n",
        "\n",
        "  # Convert X back to a Pandas DataFrame, for convenience\n",
        "  x = pd.DataFrame(rescaledx, columns=x.columns)\n",
        "  test_size = 0.30\n",
        "  seed = 1\n",
        "  X_train, X_test, Y_train, Y_test = train_test_split(x, y, test_size=test_size, random_state=seed)\n",
        "  # Build a decision tree model\n",
        "  model_dt = DecisionTreeClassifier()\n",
        "  model_dt.fit(X_train, Y_train)\n",
        "  # Check the model performance with the test data\n",
        "  predictions_dt = model_dt.predict(X_test)\n",
        "  #print(\"DecisionTreeClassifier\", accuracy_score(Y_test, predictions_dt))\n",
        "  accuracy_ADX.append(accuracy_score(Y_test, predictions_dt))\n",
        "trend_acc_avg['ADX'] = np.average(accuracy_ADX)\n",
        "trend_acc_min['ADX'] = np.min(accuracy_ADX)\n",
        "trend_acc_max['ADX'] = np.max(accuracy_ADX)"
      ],
      "execution_count": null,
      "outputs": []
    },
    {
      "cell_type": "code",
      "metadata": {
        "id": "GU-y9tEFYrSR",
        "colab": {
          "base_uri": "https://localhost:8080/"
        },
        "outputId": "dcb90348-875d-48b1-e460-84d06c95f00a"
      },
      "source": [
        "#Calculating prediction accuracy for PSAR\n",
        "accuracy_PSAR = []\n",
        "for i in ticker:\n",
        "  y = i['Sign']\n",
        "  x = i[['High','Low','Open','Close','Volume','PSAR']]\n",
        "  # Rescale the data\n",
        "  scaler = MinMaxScaler(feature_range=(0,1))\n",
        "  rescaledx = scaler.fit_transform(x)\n",
        "\n",
        "  # Convert X back to a Pandas DataFrame, for convenience\n",
        "  x = pd.DataFrame(rescaledx, columns=x.columns)\n",
        "  test_size = 0.30\n",
        "  seed = 1\n",
        "  X_train, X_test, Y_train, Y_test = train_test_split(x, y, test_size=test_size, random_state=seed)\n",
        "  # Build a decision tree model\n",
        "  model_dt = DecisionTreeClassifier()\n",
        "  model_dt.fit(X_train, Y_train)\n",
        "  # Check the model performance with the test data\n",
        "  predictions_dt = model_dt.predict(X_test)\n",
        "  print(\"DecisionTreeClassifier\", accuracy_score(Y_test, predictions_dt))\n",
        "  accuracy_PSAR.append(accuracy_score(Y_test, predictions_dt))\n",
        "trend_acc_avg['PSAR'] = np.average(accuracy_PSAR)\n",
        "trend_acc_min['PSAR'] = np.min(accuracy_PSAR)\n",
        "trend_acc_max['PSAR'] = np.max(accuracy_PSAR)"
      ],
      "execution_count": null,
      "outputs": [
        {
          "output_type": "stream",
          "text": [
            "DecisionTreeClassifier 0.4888268156424581\n",
            "DecisionTreeClassifier 0.4972067039106145\n",
            "DecisionTreeClassifier 0.5253164556962026\n",
            "DecisionTreeClassifier 0.49441340782122906\n",
            "DecisionTreeClassifier 0.4239766081871345\n",
            "DecisionTreeClassifier 0.3128491620111732\n",
            "DecisionTreeClassifier 0.3687150837988827\n",
            "DecisionTreeClassifier 0.4701195219123506\n",
            "DecisionTreeClassifier 0.42178770949720673\n",
            "DecisionTreeClassifier 0.3942857142857143\n",
            "DecisionTreeClassifier 0.3324022346368715\n",
            "DecisionTreeClassifier 0.3128491620111732\n",
            "DecisionTreeClassifier 0.3687150837988827\n",
            "DecisionTreeClassifier 0.3743016759776536\n",
            "DecisionTreeClassifier 0.4776536312849162\n",
            "DecisionTreeClassifier 0.33519553072625696\n",
            "DecisionTreeClassifier 0.441340782122905\n",
            "DecisionTreeClassifier 0.3407821229050279\n",
            "DecisionTreeClassifier 0.3659217877094972\n",
            "DecisionTreeClassifier 0.329608938547486\n",
            "DecisionTreeClassifier 0.4057971014492754\n",
            "DecisionTreeClassifier 0.42178770949720673\n",
            "DecisionTreeClassifier 0.4189189189189189\n",
            "DecisionTreeClassifier 0.4245810055865922\n",
            "DecisionTreeClassifier 0.329608938547486\n",
            "DecisionTreeClassifier 0.3463687150837989\n",
            "DecisionTreeClassifier 0.4481132075471698\n",
            "DecisionTreeClassifier 0.3741258741258741\n",
            "DecisionTreeClassifier 0.39385474860335196\n",
            "DecisionTreeClassifier 0.45251396648044695\n",
            "DecisionTreeClassifier 0.42735042735042733\n",
            "DecisionTreeClassifier 0.4666666666666667\n",
            "DecisionTreeClassifier 0.4329608938547486\n",
            "DecisionTreeClassifier 0.3324022346368715\n",
            "DecisionTreeClassifier 0.3268156424581006\n",
            "DecisionTreeClassifier 0.42178770949720673\n",
            "DecisionTreeClassifier 0.4245810055865922\n",
            "DecisionTreeClassifier 0.43854748603351956\n",
            "DecisionTreeClassifier 0.3547486033519553\n",
            "DecisionTreeClassifier 0.36033519553072624\n",
            "DecisionTreeClassifier 0.4329608938547486\n",
            "DecisionTreeClassifier 0.39385474860335196\n",
            "DecisionTreeClassifier 0.4553072625698324\n",
            "DecisionTreeClassifier 0.43854748603351956\n",
            "DecisionTreeClassifier 0.3548387096774194\n",
            "DecisionTreeClassifier 0.40782122905027934\n",
            "DecisionTreeClassifier 0.3504273504273504\n",
            "DecisionTreeClassifier 0.45251396648044695\n",
            "DecisionTreeClassifier 0.4329608938547486\n",
            "DecisionTreeClassifier 0.4134078212290503\n"
          ],
          "name": "stdout"
        }
      ]
    },
    {
      "cell_type": "code",
      "metadata": {
        "id": "f8AEjG0EYrZ7"
      },
      "source": [
        "#Calculating prediction accuracy for MACD\n",
        "accuracy_MACD = []\n",
        "for i in ticker:\n",
        "  y = i['Sign']\n",
        "  x = i[['High','Low','Open','Close','Volume','MACD']]\n",
        "  # Rescale the data\n",
        "  scaler = MinMaxScaler(feature_range=(0,1))\n",
        "  rescaledx = scaler.fit_transform(x)\n",
        "\n",
        "  # Convert X back to a Pandas DataFrame, for convenience\n",
        "  x = pd.DataFrame(rescaledx, columns=x.columns)\n",
        "  test_size = 0.30\n",
        "  seed = 1\n",
        "  X_train, X_test, Y_train, Y_test = train_test_split(x, y, test_size=test_size, random_state=seed)\n",
        "  # Build a decision tree model\n",
        "  model_dt = DecisionTreeClassifier()\n",
        "  model_dt.fit(X_train, Y_train)\n",
        "  # Check the model performance with the test data\n",
        "  predictions_dt = model_dt.predict(X_test)\n",
        "  #print(\"DecisionTreeClassifier\", accuracy_score(Y_test, predictions_dt))\n",
        "  accuracy_MACD.append(accuracy_score(Y_test, predictions_dt))\n",
        "trend_acc_avg['MACD'] = np.average(accuracy_MACD)\n",
        "trend_acc_min['MACD'] = np.min(accuracy_MACD)\n",
        "trend_acc_max['MACD'] = np.max(accuracy_MACD)"
      ],
      "execution_count": null,
      "outputs": []
    },
    {
      "cell_type": "code",
      "metadata": {
        "id": "XCiAbWXD0_1G"
      },
      "source": [
        "#Calculating prediction accuracy for MACD\n",
        "accuracy_CCI = []\n",
        "for i in ticker:\n",
        "  y = i['Sign']\n",
        "  x = i[['High','Low','Open','Close','Volume','CCI']]\n",
        "  # Rescale the data\n",
        "  scaler = MinMaxScaler(feature_range=(0,1))\n",
        "  rescaledx = scaler.fit_transform(x)\n",
        "\n",
        "  # Convert X back to a Pandas DataFrame, for convenience\n",
        "  x = pd.DataFrame(rescaledx, columns=x.columns)\n",
        "  test_size = 0.30\n",
        "  seed = 1\n",
        "  X_train, X_test, Y_train, Y_test = train_test_split(x, y, test_size=test_size, random_state=seed)\n",
        "  # Build a decision tree model\n",
        "  model_dt = DecisionTreeClassifier()\n",
        "  model_dt.fit(X_train, Y_train)\n",
        "  # Check the model performance with the test data\n",
        "  predictions_dt = model_dt.predict(X_test)\n",
        "  #print(\"DecisionTreeClassifier\", accuracy_score(Y_test, predictions_dt))\n",
        "  accuracy_CCI.append(accuracy_score(Y_test, predictions_dt))\n",
        "trend_acc_avg['CCI'] = np.average(accuracy_CCI)\n",
        "trend_acc_min['CCI'] = np.min(accuracy_CCI)\n",
        "trend_acc_max['CCI'] = np.max(accuracy_CCI)"
      ],
      "execution_count": null,
      "outputs": []
    },
    {
      "cell_type": "code",
      "metadata": {
        "id": "3J4pQIQeNwPH",
        "colab": {
          "base_uri": "https://localhost:8080/"
        },
        "outputId": "f13a1529-7ebb-45dd-cec4-42afd22c7cd7"
      },
      "source": [
        "print(trend_acc_avg['SMA'])\n",
        "print(trend_acc_avg['EMA'])\n",
        "print(trend_acc_avg['WMA'])\n",
        "print(trend_acc_avg['ADX'])\n",
        "print(trend_acc_avg['PSAR'])\n",
        "print(trend_acc_avg['MACD'])\n",
        "print(trend_acc_avg['CCI'])"
      ],
      "execution_count": null,
      "outputs": [
        {
          "output_type": "stream",
          "text": [
            "0.4099551872081723\n",
            "0.40730793346447575\n",
            "0.408245857790596\n",
            "0.41345331495968074\n",
            "0.4042154909014264\n",
            "0.40708335448652144\n",
            "0.4090342213169956\n"
          ],
          "name": "stdout"
        }
      ]
    },
    {
      "cell_type": "code",
      "metadata": {
        "id": "ZHU8pTU6v1bH",
        "colab": {
          "base_uri": "https://localhost:8080/"
        },
        "outputId": "6e41d69e-042d-4a1c-de5e-400ed8fafc1c"
      },
      "source": [
        "print(trend_acc_min['SMA'])\n",
        "print(trend_acc_min['EMA'])\n",
        "print(trend_acc_min['WMA'])\n",
        "print(trend_acc_min['ADX'])\n",
        "print(trend_acc_min['PSAR'])\n",
        "print(trend_acc_min['MACD'])\n",
        "print(trend_acc_min['CCI'])"
      ],
      "execution_count": null,
      "outputs": [
        {
          "output_type": "stream",
          "text": [
            "0.30726256983240224\n",
            "0.2988826815642458\n",
            "0.3100558659217877\n",
            "0.329608938547486\n",
            "0.3225806451612903\n",
            "0.3225806451612903\n",
            "0.32905982905982906\n"
          ],
          "name": "stdout"
        }
      ]
    },
    {
      "cell_type": "code",
      "metadata": {
        "id": "YsjwqFv1v1kV",
        "colab": {
          "base_uri": "https://localhost:8080/"
        },
        "outputId": "6cc564ab-1f2e-4818-cfb2-5de82a94bc2e"
      },
      "source": [
        "print(trend_acc_max['SMA'])\n",
        "print(trend_acc_max['EMA'])\n",
        "print(trend_acc_max['WMA'])\n",
        "print(trend_acc_max['ADX'])\n",
        "print(trend_acc_max['PSAR'])\n",
        "print(trend_acc_max['MACD'])\n",
        "print(trend_acc_max['CCI'])"
      ],
      "execution_count": null,
      "outputs": [
        {
          "output_type": "stream",
          "text": [
            "0.5111731843575419\n",
            "0.5161290322580645\n",
            "0.5335195530726257\n",
            "0.5675675675675675\n",
            "0.569620253164557\n",
            "0.5253164556962026\n",
            "0.48324022346368717\n"
          ],
          "name": "stdout"
        }
      ]
    },
    {
      "cell_type": "code",
      "metadata": {
        "id": "bm7-K-J0YrkN"
      },
      "source": [
        "#Calculating prediction accuracy for RSI\n",
        "accuracy_RSI = []\n",
        "for i in ticker:\n",
        "  y = i['Sign']\n",
        "  x = i[['High','Low','Open','Close','Volume','RSI']]\n",
        "  # Rescale the data\n",
        "  scaler = MinMaxScaler(feature_range=(0,1))\n",
        "  rescaledx = scaler.fit_transform(x)\n",
        "\n",
        "  # Convert X back to a Pandas DataFrame, for convenience\n",
        "  x = pd.DataFrame(rescaledx, columns=x.columns)\n",
        "  test_size = 0.30\n",
        "  seed = 1\n",
        "  X_train, X_test, Y_train, Y_test = train_test_split(x, y, test_size=test_size, random_state=seed)\n",
        "  # Build a decision tree model\n",
        "  model_dt = DecisionTreeClassifier()\n",
        "  model_dt.fit(X_train, Y_train)\n",
        "  # Check the model performance with the test data\n",
        "  predictions_dt = model_dt.predict(X_test)\n",
        "  #print(\"DecisionTreeClassifier\", accuracy_score(Y_test, predictions_dt))\n",
        "  accuracy_RSI.append(accuracy_score(Y_test, predictions_dt))\n",
        "momentum_acc_avg['RSI'] = np.average(accuracy_RSI)\n",
        "momentum_acc_min['RSI'] = np.min(accuracy_RSI)\n",
        "momentum_acc_max['RSI'] = np.max(accuracy_RSI)"
      ],
      "execution_count": null,
      "outputs": []
    },
    {
      "cell_type": "code",
      "metadata": {
        "id": "INz9hVEueAKW"
      },
      "source": [
        "#Calculating prediction accuracy for Stochastic\n",
        "accuracy_Stochastic = []\n",
        "for i in ticker:\n",
        "  y = i['Sign']\n",
        "  x = i[['High','Low','Open','Close','Volume','Stochastic']]\n",
        "  # Rescale the data\n",
        "  scaler = MinMaxScaler(feature_range=(0,1))\n",
        "  rescaledx = scaler.fit_transform(x)\n",
        "\n",
        "  # Convert X back to a Pandas DataFrame, for convenience\n",
        "  x = pd.DataFrame(rescaledx, columns=x.columns)\n",
        "  test_size = 0.30\n",
        "  seed = 1\n",
        "  X_train, X_test, Y_train, Y_test = train_test_split(x, y, test_size=test_size, random_state=seed)\n",
        "  # Build a decision tree model\n",
        "  model_dt = DecisionTreeClassifier()\n",
        "  model_dt.fit(X_train, Y_train)\n",
        "  # Check the model performance with the test data\n",
        "  predictions_dt = model_dt.predict(X_test)\n",
        "  #print(\"DecisionTreeClassifier\", accuracy_score(Y_test, predictions_dt))\n",
        "  accuracy_Stochastic.append(accuracy_score(Y_test, predictions_dt))\n",
        "momentum_acc_avg['Stochastic'] = np.average(accuracy_Stochastic)\n",
        "momentum_acc_min['Stochastic'] = np.min(accuracy_Stochastic)\n",
        "momentum_acc_max['Stochastic'] = np.max(accuracy_Stochastic)"
      ],
      "execution_count": null,
      "outputs": []
    },
    {
      "cell_type": "code",
      "metadata": {
        "id": "fhsLCXk0d-sR"
      },
      "source": [
        "#Calculating prediction accuracy for ATR\n",
        "accuracy_ATR = []\n",
        "for i in ticker:\n",
        "  y = i['Sign']\n",
        "  x = i[['High','Low','Open','Close','Volume','ATR']]\n",
        "  # Rescale the data\n",
        "  scaler = MinMaxScaler(feature_range=(0,1))\n",
        "  rescaledx = scaler.fit_transform(x)\n",
        "\n",
        "  # Convert X back to a Pandas DataFrame, for convenience\n",
        "  x = pd.DataFrame(rescaledx, columns=x.columns)\n",
        "  test_size = 0.30\n",
        "  seed = 1\n",
        "  X_train, X_test, Y_train, Y_test = train_test_split(x, y, test_size=test_size, random_state=seed)\n",
        "  # Build a decision tree model\n",
        "  model_dt = DecisionTreeClassifier()\n",
        "  model_dt.fit(X_train, Y_train)\n",
        "  # Check the model performance with the test data\n",
        "  predictions_dt = model_dt.predict(X_test)\n",
        "  #print(\"DecisionTreeClassifier\", accuracy_score(Y_test, predictions_dt))\n",
        "  accuracy_ATR.append(accuracy_score(Y_test, predictions_dt))\n",
        "momentum_acc_avg['ATR'] = np.average(accuracy_ATR)\n",
        "momentum_acc_min['ATR'] = np.min(accuracy_ATR)\n",
        "momentum_acc_max['ATR'] = np.max(accuracy_ATR)"
      ],
      "execution_count": null,
      "outputs": []
    },
    {
      "cell_type": "code",
      "metadata": {
        "id": "smhEeL6keK9K"
      },
      "source": [
        "#Calculating prediction accuracy for TSI\n",
        "accuracy_TSI = []\n",
        "for i in ticker:\n",
        "  y = i['Sign']\n",
        "  x = i[['High','Low','Open','Close','Volume','TSI']]\n",
        "  # Rescale the data\n",
        "  scaler = MinMaxScaler(feature_range=(0,1))\n",
        "  rescaledx = scaler.fit_transform(x)\n",
        "\n",
        "  # Convert X back to a Pandas DataFrame, for convenience\n",
        "  x = pd.DataFrame(rescaledx, columns=x.columns)\n",
        "  test_size = 0.30\n",
        "  seed = 1\n",
        "  X_train, X_test, Y_train, Y_test = train_test_split(x, y, test_size=test_size, random_state=seed)\n",
        "  # Build a decision tree model\n",
        "  model_dt = DecisionTreeClassifier()\n",
        "  model_dt.fit(X_train, Y_train)\n",
        "  # Check the model performance with the test data\n",
        "  predictions_dt = model_dt.predict(X_test)\n",
        "  #print(\"DecisionTreeClassifier\", accuracy_score(Y_test, predictions_dt))\n",
        "  accuracy_TSI.append(accuracy_score(Y_test, predictions_dt))\n",
        "momentum_acc_avg['TSI'] = np.average(accuracy_TSI)\n",
        "momentum_acc_min['TSI'] = np.min(accuracy_TSI)\n",
        "momentum_acc_max['TSI'] = np.max(accuracy_TSI)"
      ],
      "execution_count": null,
      "outputs": []
    },
    {
      "cell_type": "code",
      "metadata": {
        "id": "bPtY9HNKeLAI"
      },
      "source": [
        "#Calculating prediction accuracy for KAMA\n",
        "accuracy_KAMA = []\n",
        "for i in ticker:\n",
        "  y = i['Sign']\n",
        "  x = i[['High','Low','Open','Close','Volume','KAMA']]\n",
        "  # Rescale the data\n",
        "  scaler = MinMaxScaler(feature_range=(0,1))\n",
        "  rescaledx = scaler.fit_transform(x)\n",
        "\n",
        "  # Convert X back to a Pandas DataFrame, for convenience\n",
        "  x = pd.DataFrame(rescaledx, columns=x.columns)\n",
        "  test_size = 0.30\n",
        "  seed = 1\n",
        "  X_train, X_test, Y_train, Y_test = train_test_split(x, y, test_size=test_size, random_state=seed)\n",
        "  # Build a decision tree model\n",
        "  model_dt = DecisionTreeClassifier()\n",
        "  model_dt.fit(X_train, Y_train)\n",
        "  # Check the model performance with the test data\n",
        "  predictions_dt = model_dt.predict(X_test)\n",
        "  #print(\"DecisionTreeClassifier\", accuracy_score(Y_test, predictions_dt))\n",
        "  accuracy_KAMA.append(accuracy_score(Y_test, predictions_dt))\n",
        "momentum_acc_avg['KAMA'] = np.average(accuracy_KAMA)\n",
        "momentum_acc_min['KAMA'] = np.min(accuracy_KAMA)\n",
        "momentum_acc_max['KAMA'] = np.max(accuracy_KAMA)"
      ],
      "execution_count": null,
      "outputs": []
    },
    {
      "cell_type": "code",
      "metadata": {
        "id": "1tsGLLQoeLDL"
      },
      "source": [
        "#Calculating prediction accuracy for BB\n",
        "accuracy_BB = []\n",
        "for i in ticker:\n",
        "  y = i['Sign']\n",
        "  x = i[['High','Low','Open','Close','Volume','BB_High','BB_Low','BB_Avg']]\n",
        "  # Rescale the data\n",
        "  scaler = MinMaxScaler(feature_range=(0,1))\n",
        "  rescaledx = scaler.fit_transform(x)\n",
        "\n",
        "  # Convert X back to a Pandas DataFrame, for convenience\n",
        "  x = pd.DataFrame(rescaledx, columns=x.columns)\n",
        "  test_size = 0.30\n",
        "  seed = 1\n",
        "  X_train, X_test, Y_train, Y_test = train_test_split(x, y, test_size=test_size, random_state=seed)\n",
        "  # Build a decision tree model\n",
        "  model_dt = DecisionTreeClassifier()\n",
        "  model_dt.fit(X_train, Y_train)\n",
        "  # Check the model performance with the test data\n",
        "  predictions_dt = model_dt.predict(X_test)\n",
        "  #print(\"DecisionTreeClassifier\", accuracy_score(Y_test, predictions_dt))\n",
        "  accuracy_BB.append(accuracy_score(Y_test, predictions_dt))\n",
        "momentum_acc_avg['BB'] = np.average(accuracy_BB)\n",
        "momentum_acc_min['BB'] = np.min(accuracy_BB)\n",
        "momentum_acc_max['BB'] = np.max(accuracy_BB)"
      ],
      "execution_count": null,
      "outputs": []
    },
    {
      "cell_type": "code",
      "metadata": {
        "id": "i-FW3fp3ehgB"
      },
      "source": [
        "#Calculating prediction accuracy for AO\n",
        "accuracy_AO = []\n",
        "for i in ticker:\n",
        "  y = i['Sign']\n",
        "  x = i[['High','Low','Open','Close','Volume','AO']]\n",
        "  # Rescale the data\n",
        "  scaler = MinMaxScaler(feature_range=(0,1))\n",
        "  rescaledx = scaler.fit_transform(x)\n",
        "\n",
        "  # Convert X back to a Pandas DataFrame, for convenience\n",
        "  x = pd.DataFrame(rescaledx, columns=x.columns)\n",
        "  test_size = 0.30\n",
        "  seed = 1\n",
        "  X_train, X_test, Y_train, Y_test = train_test_split(x, y, test_size=test_size, random_state=seed)\n",
        "  # Build a decision tree model\n",
        "  model_dt = DecisionTreeClassifier()\n",
        "  model_dt.fit(X_train, Y_train)\n",
        "  # Check the model performance with the test data\n",
        "  predictions_dt = model_dt.predict(X_test)\n",
        "  #print(\"DecisionTreeClassifier\", accuracy_score(Y_test, predictions_dt))\n",
        "  accuracy_AO.append(accuracy_score(Y_test, predictions_dt))\n",
        "momentum_acc_avg['AO'] = np.average(accuracy_AO)\n",
        "momentum_acc_min['AO'] = np.min(accuracy_AO)\n",
        "momentum_acc_max['AO'] = np.max(accuracy_AO)"
      ],
      "execution_count": null,
      "outputs": []
    },
    {
      "cell_type": "code",
      "metadata": {
        "id": "tFcpcNBZd52Z",
        "colab": {
          "base_uri": "https://localhost:8080/"
        },
        "outputId": "1195b1dd-62eb-4f2b-dea2-776d4151eb59"
      },
      "source": [
        "print(momentum_acc_avg['RSI'])\n",
        "print(momentum_acc_avg['Stochastic'])\n",
        "print(momentum_acc_avg['ATR'])\n",
        "print(momentum_acc_avg['TSI'])\n",
        "print(momentum_acc_avg['KAMA'])\n",
        "print(momentum_acc_avg['BB'])\n",
        "print(momentum_acc_avg['AO'])"
      ],
      "execution_count": null,
      "outputs": [
        {
          "output_type": "stream",
          "text": [
            "0.4096365282022179\n",
            "0.4038626965397314\n",
            "0.41257284146895\n",
            "0.40815641896026017\n",
            "0.4013698772130261\n",
            "0.4101330108594954\n",
            "0.4131525593094551\n"
          ],
          "name": "stdout"
        }
      ]
    },
    {
      "cell_type": "code",
      "metadata": {
        "id": "oCoEzAZlskcv",
        "colab": {
          "base_uri": "https://localhost:8080/"
        },
        "outputId": "74221c02-7725-4320-aa73-2821f8c7325c"
      },
      "source": [
        "print(momentum_acc_max['RSI'])\n",
        "print(momentum_acc_max['Stochastic'])\n",
        "print(momentum_acc_max['ATR'])\n",
        "print(momentum_acc_max['TSI'])\n",
        "print(momentum_acc_max['KAMA'])\n",
        "print(momentum_acc_max['BB'])\n",
        "print(momentum_acc_max['AO'])"
      ],
      "execution_count": null,
      "outputs": [
        {
          "output_type": "stream",
          "text": [
            "0.5569620253164557\n",
            "0.5569620253164557\n",
            "0.5195530726256983\n",
            "0.5253164556962026\n",
            "0.5223463687150838\n",
            "0.5253164556962026\n",
            "0.569620253164557\n"
          ],
          "name": "stdout"
        }
      ]
    },
    {
      "cell_type": "code",
      "metadata": {
        "id": "ZDFrv-VcsklP",
        "colab": {
          "base_uri": "https://localhost:8080/"
        },
        "outputId": "06064c0b-fca8-488f-bf5d-10b19462a5ad"
      },
      "source": [
        "print(momentum_acc_min['RSI'])\n",
        "print(momentum_acc_min['Stochastic'])\n",
        "print(momentum_acc_min['ATR'])\n",
        "print(momentum_acc_min['TSI'])\n",
        "print(momentum_acc_min['KAMA'])\n",
        "print(momentum_acc_min['BB'])\n",
        "print(momentum_acc_min['AO'])"
      ],
      "execution_count": null,
      "outputs": [
        {
          "output_type": "stream",
          "text": [
            "0.2903225806451613\n",
            "0.25806451612903225\n",
            "0.3128491620111732\n",
            "0.3225806451612903\n",
            "0.2903225806451613\n",
            "0.2988826815642458\n",
            "0.3268156424581006\n"
          ],
          "name": "stdout"
        }
      ]
    },
    {
      "cell_type": "code",
      "metadata": {
        "id": "57WambQJhqCX"
      },
      "source": [
        "#Calculating prediction accuracy for EMV\n",
        "accuracy_EMV = []\n",
        "for i in ticker:\n",
        "  y = i['Sign']\n",
        "  x = i[['High','Low','Open','Close','Volume','EMV']]\n",
        "  # Rescale the data\n",
        "  scaler = MinMaxScaler(feature_range=(0,1))\n",
        "  rescaledx = scaler.fit_transform(x)\n",
        "\n",
        "  # Convert X back to a Pandas DataFrame, for convenience\n",
        "  x = pd.DataFrame(rescaledx, columns=x.columns)\n",
        "  test_size = 0.30\n",
        "  seed = 1\n",
        "  X_train, X_test, Y_train, Y_test = train_test_split(x, y, test_size=test_size, random_state=seed)\n",
        "  # Build a decision tree model\n",
        "  model_dt = DecisionTreeClassifier()\n",
        "  model_dt.fit(X_train, Y_train)\n",
        "  # Check the model performance with the test data\n",
        "  predictions_dt = model_dt.predict(X_test)\n",
        "  #print(\"DecisionTreeClassifier\", accuracy_score(Y_test, predictions_dt))\n",
        "  accuracy_EMV.append(accuracy_score(Y_test, predictions_dt))\n",
        "volume_acc_avg['EMV'] = np.average(accuracy_EMV)\n",
        "volume_acc_min['EMV'] = np.min(accuracy_EMV)\n",
        "volume_acc_max['EMV'] = np.max(accuracy_EMV)"
      ],
      "execution_count": null,
      "outputs": []
    },
    {
      "cell_type": "code",
      "metadata": {
        "id": "giJ2ROq0iOyJ"
      },
      "source": [
        "#Calculating prediction accuracy for OBV\n",
        "accuracy_OBV = []\n",
        "for i in ticker:\n",
        "  y = i['Sign']\n",
        "  x = i[['High','Low','Open','Close','Volume','OBV']]\n",
        "  # Rescale the data\n",
        "  scaler = MinMaxScaler(feature_range=(0,1))\n",
        "  rescaledx = scaler.fit_transform(x)\n",
        "\n",
        "  # Convert X back to a Pandas DataFrame, for convenience\n",
        "  x = pd.DataFrame(rescaledx, columns=x.columns)\n",
        "  test_size = 0.30\n",
        "  seed = 1\n",
        "  X_train, X_test, Y_train, Y_test = train_test_split(x, y, test_size=test_size, random_state=seed)\n",
        "  # Build a decision tree model\n",
        "  model_dt = DecisionTreeClassifier()\n",
        "  model_dt.fit(X_train, Y_train)\n",
        "  # Check the model performance with the test data\n",
        "  predictions_dt = model_dt.predict(X_test)\n",
        "  #print(\"DecisionTreeClassifier\", accuracy_score(Y_test, predictions_dt))\n",
        "  accuracy_OBV.append(accuracy_score(Y_test, predictions_dt))\n",
        "volume_acc_avg['OBV'] = np.average(accuracy_OBV)\n",
        "volume_acc_min['OBV'] = np.min(accuracy_OBV)\n",
        "volume_acc_max['OBV'] = np.max(accuracy_OBV)"
      ],
      "execution_count": null,
      "outputs": []
    },
    {
      "cell_type": "code",
      "metadata": {
        "id": "PrWinubuiFt4"
      },
      "source": [
        "#Calculating prediction accuracy for CR\n",
        "accuracy_CR = []\n",
        "for i in ticker:\n",
        "  y = i['Sign']\n",
        "  x = i[['High','Low','Open','Close','Volume','CR']]\n",
        "  # Rescale the data\n",
        "  scaler = MinMaxScaler(feature_range=(0,1))\n",
        "  rescaledx = scaler.fit_transform(x)\n",
        "\n",
        "  # Convert X back to a Pandas DataFrame, for convenience\n",
        "  x = pd.DataFrame(rescaledx, columns=x.columns)\n",
        "  test_size = 0.30\n",
        "  seed = 1\n",
        "  X_train, X_test, Y_train, Y_test = train_test_split(x, y, test_size=test_size, random_state=seed)\n",
        "  # Build a decision tree model\n",
        "  model_dt = DecisionTreeClassifier()\n",
        "  model_dt.fit(X_train, Y_train)\n",
        "  # Check the model performance with the test data\n",
        "  predictions_dt = model_dt.predict(X_test)\n",
        "  #print(\"DecisionTreeClassifier\", accuracy_score(Y_test, predictions_dt))\n",
        "  accuracy_CR.append(accuracy_score(Y_test, predictions_dt))\n",
        "volume_acc_avg['CR'] = np.average(accuracy_CR)\n",
        "volume_acc_min['CR'] = np.min(accuracy_CR)\n",
        "volume_acc_max['CR'] = np.max(accuracy_CR)"
      ],
      "execution_count": null,
      "outputs": []
    },
    {
      "cell_type": "code",
      "metadata": {
        "id": "tHyGrYeSiQXt"
      },
      "source": [
        "#Calculating prediction accuracy for DR\n",
        "accuracy_DR = []\n",
        "for i in ticker:\n",
        "  y = i['Sign']\n",
        "  x = i[['High','Low','Open','Close','Volume','DR']]\n",
        "  # Rescale the data\n",
        "  scaler = MinMaxScaler(feature_range=(0,1))\n",
        "  rescaledx = scaler.fit_transform(x)\n",
        "\n",
        "  # Convert X back to a Pandas DataFrame, for convenience\n",
        "  x = pd.DataFrame(rescaledx, columns=x.columns)\n",
        "  test_size = 0.30\n",
        "  seed = 1\n",
        "  X_train, X_test, Y_train, Y_test = train_test_split(x, y, test_size=test_size, random_state=seed)\n",
        "  # Build a decision tree model\n",
        "  model_dt = DecisionTreeClassifier()\n",
        "  model_dt.fit(X_train, Y_train)\n",
        "  # Check the model performance with the test data\n",
        "  predictions_dt = model_dt.predict(X_test)\n",
        "  #print(\"DecisionTreeClassifier\", accuracy_score(Y_test, predictions_dt))\n",
        "  accuracy_DR.append(accuracy_score(Y_test, predictions_dt))\n",
        "volume_acc_avg['DR'] = np.average(accuracy_DR)\n",
        "volume_acc_min['DR'] = np.min(accuracy_DR)\n",
        "volume_acc_max['DR'] = np.max(accuracy_DR)"
      ],
      "execution_count": null,
      "outputs": []
    },
    {
      "cell_type": "code",
      "metadata": {
        "id": "i_jb0B3aiQeP"
      },
      "source": [
        "#Calculating prediction accuracy for FI\n",
        "accuracy_FI = []\n",
        "for i in ticker:\n",
        "  y = i['Sign']\n",
        "  x = i[['High','Low','Open','Close','Volume','FI']]\n",
        "  # Rescale the data\n",
        "  scaler = MinMaxScaler(feature_range=(0,1))\n",
        "  rescaledx = scaler.fit_transform(x)\n",
        "\n",
        "  # Convert X back to a Pandas DataFrame, for convenience\n",
        "  x = pd.DataFrame(rescaledx, columns=x.columns)\n",
        "  test_size = 0.30\n",
        "  seed = 1\n",
        "  X_train, X_test, Y_train, Y_test = train_test_split(x, y, test_size=test_size, random_state=seed)\n",
        "  # Build a decision tree model\n",
        "  model_dt = DecisionTreeClassifier()\n",
        "  model_dt.fit(X_train, Y_train)\n",
        "  # Check the model performance with the test data\n",
        "  predictions_dt = model_dt.predict(X_test)\n",
        "  #print(\"DecisionTreeClassifier\", accuracy_score(Y_test, predictions_dt))\n",
        "  accuracy_FI.append(accuracy_score(Y_test, predictions_dt))\n",
        "volume_acc_avg['FI'] = np.average(accuracy_FI)\n",
        "volume_acc_min['FI'] = np.min(accuracy_FI)\n",
        "volume_acc_max['FI'] = np.max(accuracy_FI)"
      ],
      "execution_count": null,
      "outputs": []
    },
    {
      "cell_type": "code",
      "metadata": {
        "id": "HzUkvhewh_QB",
        "colab": {
          "base_uri": "https://localhost:8080/"
        },
        "outputId": "ea5237b5-81ff-4989-949c-9b33b03edfc1"
      },
      "source": [
        "print(volume_acc_avg['EMV'])\n",
        "print(volume_acc_avg['OBV'])\n",
        "print(volume_acc_avg['CR'])\n",
        "print(volume_acc_avg['DR'])\n",
        "print(volume_acc_avg['FI'])"
      ],
      "execution_count": null,
      "outputs": [
        {
          "output_type": "stream",
          "text": [
            "0.4108152547212234\n",
            "0.41539162872248264\n",
            "0.40816895530241726\n",
            "0.3955036221281113\n",
            "0.40423562186150336\n"
          ],
          "name": "stdout"
        }
      ]
    },
    {
      "cell_type": "code",
      "metadata": {
        "id": "nwV6KLzAxkJP",
        "colab": {
          "base_uri": "https://localhost:8080/"
        },
        "outputId": "6f9096e1-b6a1-4935-f338-f0e4d67bcea1"
      },
      "source": [
        "print(volume_acc_min['EMV'])\n",
        "print(volume_acc_min['OBV'])\n",
        "print(volume_acc_min['CR'])\n",
        "print(volume_acc_min['DR'])\n",
        "print(volume_acc_min['FI'])"
      ],
      "execution_count": null,
      "outputs": [
        {
          "output_type": "stream",
          "text": [
            "0.33798882681564246\n",
            "0.31564245810055863\n",
            "0.25806451612903225\n",
            "0.3140096618357488\n",
            "0.3128491620111732\n"
          ],
          "name": "stdout"
        }
      ]
    },
    {
      "cell_type": "code",
      "metadata": {
        "id": "DKT5IEDxxkMH",
        "colab": {
          "base_uri": "https://localhost:8080/"
        },
        "outputId": "da910a19-9019-4bc3-d40c-d6af49f34fa9"
      },
      "source": [
        "print(volume_acc_max['EMV'])\n",
        "print(volume_acc_max['OBV'])\n",
        "print(volume_acc_max['CR'])\n",
        "print(volume_acc_max['DR'])\n",
        "print(volume_acc_max['FI'])"
      ],
      "execution_count": null,
      "outputs": [
        {
          "output_type": "stream",
          "text": [
            "0.5083798882681564\n",
            "0.5223463687150838\n",
            "0.5139664804469274\n",
            "0.5251396648044693\n",
            "0.5759493670886076\n"
          ],
          "name": "stdout"
        }
      ]
    },
    {
      "cell_type": "code",
      "metadata": {
        "id": "CAt4Z0QpidJR",
        "colab": {
          "base_uri": "https://localhost:8080/"
        },
        "outputId": "83eb9c0a-285c-40cb-9370-7cf1c0ab79c0"
      },
      "source": [
        "top_trend_indicators = nlargest(3, trend_acc_avg, key = trend_acc_avg.get)\n",
        "for i in top_trend_indicators:\n",
        "  print(i, \":\", trend_acc_avg.get(i))\n"
      ],
      "execution_count": null,
      "outputs": [
        {
          "output_type": "stream",
          "text": [
            "ADX : 0.41345331495968074\n",
            "SMA : 0.4099551872081723\n",
            "CCI : 0.4090342213169956\n"
          ],
          "name": "stdout"
        }
      ]
    },
    {
      "cell_type": "code",
      "metadata": {
        "id": "QVD34nuxkm6i",
        "colab": {
          "base_uri": "https://localhost:8080/"
        },
        "outputId": "b5de4a0a-f3b5-4b77-d895-a2ea205f69dd"
      },
      "source": [
        "top_momentum_indicators = nlargest(3, momentum_acc_avg, key = momentum_acc_avg.get)\n",
        "for i in top_momentum_indicators:\n",
        "  print(i, \":\", momentum_acc_avg.get(i))"
      ],
      "execution_count": null,
      "outputs": [
        {
          "output_type": "stream",
          "text": [
            "AO : 0.4131525593094551\n",
            "ATR : 0.41257284146895\n",
            "BB : 0.4101330108594954\n"
          ],
          "name": "stdout"
        }
      ]
    },
    {
      "cell_type": "code",
      "metadata": {
        "id": "YkmxeTlGkyHI",
        "colab": {
          "base_uri": "https://localhost:8080/"
        },
        "outputId": "e3f35292-39cf-49c8-bbfb-01be22866f6f"
      },
      "source": [
        "top_volume_indicators = nlargest(3, volume_acc_avg, key = volume_acc_avg.get)\n",
        "for i in top_volume_indicators:\n",
        "  print(i, \":\", volume_acc_avg.get(i))"
      ],
      "execution_count": null,
      "outputs": [
        {
          "output_type": "stream",
          "text": [
            "OBV : 0.41539162872248264\n",
            "EMV : 0.4108152547212234\n",
            "CR : 0.40816895530241726\n"
          ],
          "name": "stdout"
        }
      ]
    },
    {
      "cell_type": "code",
      "metadata": {
        "id": "zhbhwd6V42-I",
        "colab": {
          "base_uri": "https://localhost:8080/",
          "height": 265
        },
        "outputId": "4d828776-2a74-4883-f4f3-259a13338d25"
      },
      "source": [
        "pyplot.bar(range(len(trend_acc_avg)), list(trend_acc_avg.values()), align='center')\n",
        "pyplot.xticks(range(len(trend_acc_avg)), list(trend_acc_avg.keys()))\n",
        "\n",
        "pyplot.show()"
      ],
      "execution_count": null,
      "outputs": [
        {
          "output_type": "display_data",
          "data": {
            "image/png": "[encoded data removed]",
            "text/plain": [
              "<Figure size 432x288 with 1 Axes>"
            ]
          },
          "metadata": {
            "tags": [],
            "needs_background": "light"
          }
        }
      ]
    },
    {
      "cell_type": "code",
      "metadata": {
        "id": "O3P3cRnQ8E1x",
        "colab": {
          "base_uri": "https://localhost:8080/",
          "height": 265
        },
        "outputId": "7c084251-2967-467b-ad15-8738f2f0d71e"
      },
      "source": [
        "pyplot.bar(range(len(trend_acc_min)), list(trend_acc_min.values()), align='center')\n",
        "pyplot.xticks(range(len(trend_acc_min)), list(trend_acc_min.keys()))\n",
        "\n",
        "pyplot.show()"
      ],
      "execution_count": null,
      "outputs": [
        {
          "output_type": "display_data",
          "data": {
            "image/png": "[encoded data removed]",
            "text/plain": [
              "<Figure size 432x288 with 1 Axes>"
            ]
          },
          "metadata": {
            "tags": [],
            "needs_background": "light"
          }
        }
      ]
    },
    {
      "cell_type": "code",
      "metadata": {
        "id": "OzKgb47J9pAg",
        "colab": {
          "base_uri": "https://localhost:8080/",
          "height": 265
        },
        "outputId": "4ff583ee-da51-4469-d634-8464536a8724"
      },
      "source": [
        "pyplot.bar(range(len(trend_acc_max)), list(trend_acc_max.values()), align='center')\n",
        "pyplot.xticks(range(len(trend_acc_max)), list(trend_acc_max.keys()))\n",
        "\n",
        "pyplot.show()"
      ],
      "execution_count": null,
      "outputs": [
        {
          "output_type": "display_data",
          "data": {
            "image/png": "[encoded data removed]",
            "text/plain": [
              "<Figure size 432x288 with 1 Axes>"
            ]
          },
          "metadata": {
            "tags": [],
            "needs_background": "light"
          }
        }
      ]
    },
    {
      "cell_type": "code",
      "metadata": {
        "id": "ag984kPF9wee",
        "colab": {
          "base_uri": "https://localhost:8080/",
          "height": 265
        },
        "outputId": "37f966e9-6933-4322-ed18-059b7c0c7e53"
      },
      "source": [
        "pyplot.bar(range(len(momentum_acc_avg)), list(momentum_acc_avg.values()), align='center')\n",
        "pyplot.xticks(range(len(momentum_acc_avg)), list(momentum_acc_avg.keys()))\n",
        "\n",
        "pyplot.show()"
      ],
      "execution_count": null,
      "outputs": [
        {
          "output_type": "display_data",
          "data": {
            "image/png": "[encoded data removed]",
            "text/plain": [
              "<Figure size 432x288 with 1 Axes>"
            ]
          },
          "metadata": {
            "tags": [],
            "needs_background": "light"
          }
        }
      ]
    },
    {
      "cell_type": "code",
      "metadata": {
        "id": "OGFWC7kQ-Bof",
        "colab": {
          "base_uri": "https://localhost:8080/",
          "height": 265
        },
        "outputId": "b754e89b-add1-4b68-ff79-501c0edd7c28"
      },
      "source": [
        "pyplot.bar(range(len(momentum_acc_min)), list(momentum_acc_min.values()), align='center')\n",
        "pyplot.xticks(range(len(momentum_acc_min)), list(momentum_acc_min.keys()))\n",
        "\n",
        "pyplot.show()"
      ],
      "execution_count": null,
      "outputs": [
        {
          "output_type": "display_data",
          "data": {
            "image/png": "[encoded data removed]",
            "text/plain": [
              "<Figure size 432x288 with 1 Axes>"
            ]
          },
          "metadata": {
            "tags": [],
            "needs_background": "light"
          }
        }
      ]
    },
    {
      "cell_type": "code",
      "metadata": {
        "id": "Qd5T0K5B-I1F",
        "colab": {
          "base_uri": "https://localhost:8080/",
          "height": 265
        },
        "outputId": "2a016529-fba6-40d7-9681-2dcacbac553e"
      },
      "source": [
        "pyplot.bar(range(len(momentum_acc_max)), list(momentum_acc_max.values()), align='center')\n",
        "pyplot.xticks(range(len(momentum_acc_max)), list(momentum_acc_max.keys()))\n",
        "\n",
        "pyplot.show()"
      ],
      "execution_count": null,
      "outputs": [
        {
          "output_type": "display_data",
          "data": {
            "image/png": "[encoded data removed]",
            "text/plain": [
              "<Figure size 432x288 with 1 Axes>"
            ]
          },
          "metadata": {
            "tags": [],
            "needs_background": "light"
          }
        }
      ]
    },
    {
      "cell_type": "code",
      "metadata": {
        "id": "krsFmwrt-Rr1",
        "colab": {
          "base_uri": "https://localhost:8080/",
          "height": 265
        },
        "outputId": "fb527c40-8190-427b-c4fa-fa71b1080da5"
      },
      "source": [
        "pyplot.bar(range(len(volume_acc_avg)), list(volume_acc_avg.values()), align='center')\n",
        "pyplot.xticks(range(len(volume_acc_avg)), list(volume_acc_avg.keys()))\n",
        "\n",
        "pyplot.show()"
      ],
      "execution_count": null,
      "outputs": [
        {
          "output_type": "display_data",
          "data": {
            "image/png": "[encoded data removed]",
            "text/plain": [
              "<Figure size 432x288 with 1 Axes>"
            ]
          },
          "metadata": {
            "tags": [],
            "needs_background": "light"
          }
        }
      ]
    },
    {
      "cell_type": "code",
      "metadata": {
        "id": "vRr1P0x9-1Oz",
        "colab": {
          "base_uri": "https://localhost:8080/",
          "height": 265
        },
        "outputId": "8827c79b-b62f-49d6-c896-f03e80a9d7ec"
      },
      "source": [
        "pyplot.bar(range(len(volume_acc_min)), list(volume_acc_min.values()), align='center')\n",
        "pyplot.xticks(range(len(volume_acc_min)), list(volume_acc_min.keys()))\n",
        "\n",
        "pyplot.show()"
      ],
      "execution_count": null,
      "outputs": [
        {
          "output_type": "display_data",
          "data": {
            "image/png": "[encoded data removed]",
            "text/plain": [
              "<Figure size 432x288 with 1 Axes>"
            ]
          },
          "metadata": {
            "tags": [],
            "needs_background": "light"
          }
        }
      ]
    },
    {
      "cell_type": "code",
      "metadata": {
        "id": "H3W4nMmI-6vl",
        "colab": {
          "base_uri": "https://localhost:8080/",
          "height": 265
        },
        "outputId": "2f2adfb1-a5de-428a-e7c3-403bf3064840"
      },
      "source": [
        "pyplot.bar(range(len(volume_acc_max)), list(volume_acc_max.values()), align='center')\n",
        "pyplot.xticks(range(len(volume_acc_max)), list(volume_acc_max.keys()))\n",
        "\n",
        "pyplot.show()"
      ],
      "execution_count": null,
      "outputs": [
        {
          "output_type": "display_data",
          "data": {
            "image/png": "[encoded data removed]",
            "text/plain": [
              "<Figure size 432x288 with 1 Axes>"
            ]
          },
          "metadata": {
            "tags": [],
            "needs_background": "light"
          }
        }
      ]
    },
    {
      "cell_type": "code",
      "metadata": {
        "id": "32scpkeC-_zn",
        "colab": {
          "base_uri": "https://localhost:8080/",
          "height": 295
        },
        "outputId": "28e522cc-7e1a-4c43-ffa0-8fb57b260023"
      },
      "source": [
        "pyplot.plot(list(volume_acc_avg.keys()),list(volume_acc_avg.values()), label = \"Average\")\n",
        "pyplot.plot(list(volume_acc_min.keys()),list(volume_acc_min.values()), label = \"Minimum\")\n",
        "pyplot.plot(list(volume_acc_max.keys()),list(volume_acc_max.values()), label = \"Maximum\")\n",
        "pyplot.ylabel(\"Prediction Accuracy\")\n",
        "pyplot.xlabel(\"Indicators\")\n",
        "pyplot.legend()\n",
        "pyplot.title(\"Prediction accuracy for the Volatality, Volume, and other indicators\")\n",
        "pyplot.show()"
      ],
      "execution_count": null,
      "outputs": [
        {
          "output_type": "display_data",
          "data": {
            "image/png": "[encoded data removed]",
            "text/plain": [
              "<Figure size 432x288 with 1 Axes>"
            ]
          },
          "metadata": {
            "tags": [],
            "needs_background": "light"
          }
        }
      ]
    },
    {
      "cell_type": "code",
      "metadata": {
        "id": "J4GOUBKGkJhr",
        "colab": {
          "base_uri": "https://localhost:8080/",
          "height": 295
        },
        "outputId": "9aeb9e7a-79ed-477d-ac33-739d8d5123b3"
      },
      "source": [
        "pyplot.plot(list(trend_acc_avg.keys()),list(trend_acc_avg.values()), label = \"Average\")\n",
        "pyplot.plot(list(trend_acc_min.keys()),list(trend_acc_min.values()), label = \"Minimum\")\n",
        "pyplot.plot(list(trend_acc_max.keys()),list(trend_acc_max.values()), label = \"Maximum\")\n",
        "pyplot.ylabel(\"Prediction Accuracy\")\n",
        "pyplot.xlabel(\"Indicators\")\n",
        "pyplot.legend()\n",
        "pyplot.title(\"Prediction accuracy for the Trend following indicators\")\n",
        "pyplot.show()"
      ],
      "execution_count": null,
      "outputs": [
        {
          "output_type": "display_data",
          "data": {
            "image/png": "[encoded data removed]",
            "text/plain": [
              "<Figure size 432x288 with 1 Axes>"
            ]
          },
          "metadata": {
            "tags": [],
            "needs_background": "light"
          }
        }
      ]
    },
    {
      "cell_type": "code",
      "metadata": {
        "id": "gv0-9sbDxg7V",
        "colab": {
          "base_uri": "https://localhost:8080/",
          "height": 295
        },
        "outputId": "4dd7664c-6144-444a-f0d2-fc37a614bdac"
      },
      "source": [
        "pyplot.plot(list(momentum_acc_avg.keys()),list(momentum_acc_avg.values()), label = \"Average\")\n",
        "pyplot.plot(list(momentum_acc_min.keys()),list(momentum_acc_min.values()), label = \"Minimum\")\n",
        "pyplot.plot(list(momentum_acc_max.keys()),list(momentum_acc_max.values()), label = \"Maximum\")\n",
        "pyplot.ylabel(\"Prediction Accuracy\")\n",
        "pyplot.xlabel(\"Indicators\")\n",
        "pyplot.legend()\n",
        "pyplot.title(\"Prediction accuracy for the Momentum indicators\")\n",
        "pyplot.show()"
      ],
      "execution_count": null,
      "outputs": [
        {
          "output_type": "display_data",
          "data": {
            "image/png": "[encoded data removed]",
            "text/plain": [
              "<Figure size 432x288 with 1 Axes>"
            ]
          },
          "metadata": {
            "tags": [],
            "needs_background": "light"
          }
        }
      ]
    },
    {
      "cell_type": "code",
      "metadata": {
        "id": "JZNJQuuAyd03"
      },
      "source": [
        ""
      ],
      "execution_count": null,
      "outputs": []
    }
  ]
}